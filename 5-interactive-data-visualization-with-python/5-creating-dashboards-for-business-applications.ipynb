{
  "cells": [
    {
      "attachments": {},
      "cell_type": "markdown",
      "metadata": {
        "id": "h5GHuvTvf7hs"
      },
      "source": [
        "<img heigth=\"8\" src=\"https://i.imgur.com/BhG5KQ3.png\" alt=\"pbs-enae\">\n",
        "\n",
        "<h1 align=\"left\">Visualización interactiva de datos con Python</h1>\n",
        "\n",
        "<h2 align=\"left\"><i>Creating Dashboards for Business Applications</i></h2>\n",
        "\n",
        "<p align=\"left\">\n",
        "  <h3><a href=\"https://joefaver.dev\">Joseph F. Vergel-Becerra</a> | Aplicaciones de Python - Tools and Skill Courses</h3>\n",
        "  <br>\n",
        "  <b>Last updated:</b> <i>28/04/2023</i>\n",
        "  <br><br>\n",
        "  <!-- <a href=\"#tabla-de-contenido\">Tabla de contenido</a> • -->\n",
        "  <a href=\"#referencias\">Referencias</a> •\n",
        "  <a href=\"#contribuir\">Contribuir</a>\n",
        "  <!-- <a href=\"#agradecimientos\">Agradecimientos</a> -->\n",
        "  <br><br>\n",
        "</p>\n",
        "<table align=\"left\">\n",
        "  <td>\n",
        "      <a href=\"https://img.shields.io/badge/version-0.1.0-blue.svg?cacheSeconds=2592000\">\n",
        "        <img src=\"https://img.shields.io/badge/version-0.1.0-blue.svg?cacheSeconds=2592000\" alt=\"Version\" height=\"18\">\n",
        "      </a>\n",
        "  </td>\n",
        "  <td>\n",
        "    <a href=\"https://colab.research.google.com/github/joefavergel/pbs-enae-python-applications-course/blob/main/5-interactive-data-visualization-with-python/5-creating-dashboards-for-business-applications.ipynb\" target=\"_parent\"><img src=\"https://colab.research.google.com/assets/colab-badge.svg\" alt=\"Open In Colab\"/>\n",
        "      </a>\n",
        "  </td>\n",
        "  <td>\n",
        "    <a href=\"https://github.com/joefavergel/pbs-enae-python-applications-course\" target=\"_parent\"><img src=\"https://img.shields.io/github/forks/joefavergel/pbs-enae-ml-course?style=social\" alt=\"Fork\"/>\n",
        "      </a>\n",
        "  </td>\n",
        "</table>\n",
        "<br>\n",
        "<br>\n",
        "\n",
        "---\n",
        "\n",
        "El ***Data Storytelling\"*** es un enfoque de comunicación que combina técnicas narrativas con visualizaciones de datos para transmitir información de manera efectiva y atractiva. Su objetivo es facilitar la comprensión, retención e interpretación de información compleja, permitiendo a los receptores tomar decisiones informadas y basadas en datos. A través de las bibliotecas [plotly]() y [Dash]() es posible crear gráficos y aplicaciones web interactivas que te permitirán *contar historias sobre los datos*. Generar visualizaciones dinámicas de datos, personalizar estilos y diseño e integrar gráficos en aplicaciones web, le permite a las empresas tomar decisiones informadas basadas en el análisis de datos."
      ]
    },
    {
      "attachments": {},
      "cell_type": "markdown",
      "metadata": {},
      "source": [
        "## 1. Preludio"
      ]
    },
    {
      "cell_type": "code",
      "execution_count": 1,
      "metadata": {
        "colab": {
          "base_uri": "https://localhost:8080/"
        },
        "id": "zSihQVfWVQ4K",
        "outputId": "ab2fdaae-8f98-46d2-bbfb-37554ceaf289"
      },
      "outputs": [
        {
          "name": "stdout",
          "output_type": "stream",
          "text": [
            "Found existing installation: Werkzeug 2.0.3\n",
            "Uninstalling Werkzeug-2.0.3:\n",
            "  Successfully uninstalled Werkzeug-2.0.3\n",
            "Collecting werkzeug==2.0.3\n",
            "  Using cached Werkzeug-2.0.3-py3-none-any.whl (289 kB)\n",
            "Installing collected packages: werkzeug\n",
            "Successfully installed werkzeug-2.0.3\n"
          ]
        }
      ],
      "source": [
        "!pip install --q dash==2.0.0 jupyter-dash==0.4.0 dash_bootstrap_components pandas;\n",
        "!pip uninstall -y werkzeug\n",
        "!pip install werkzeug==2.0.3"
      ]
    },
    {
      "attachments": {},
      "cell_type": "markdown",
      "metadata": {},
      "source": [
        "## 2. Plotly"
      ]
    },
    {
      "cell_type": "code",
      "execution_count": 2,
      "metadata": {},
      "outputs": [
        {
          "data": {
            "application/vnd.plotly.v1+json": {
              "config": {
                "plotlyServerURL": "https://plot.ly"
              },
              "data": [
                {
                  "type": "bar",
                  "x": [
                    1,
                    2,
                    3
                  ],
                  "y": [
                    1,
                    3,
                    2
                  ]
                }
              ],
              "layout": {
                "template": {
                  "data": {
                    "bar": [
                      {
                        "error_x": {
                          "color": "#2a3f5f"
                        },
                        "error_y": {
                          "color": "#2a3f5f"
                        },
                        "marker": {
                          "line": {
                            "color": "#E5ECF6",
                            "width": 0.5
                          },
                          "pattern": {
                            "fillmode": "overlay",
                            "size": 10,
                            "solidity": 0.2
                          }
                        },
                        "type": "bar"
                      }
                    ],
                    "barpolar": [
                      {
                        "marker": {
                          "line": {
                            "color": "#E5ECF6",
                            "width": 0.5
                          },
                          "pattern": {
                            "fillmode": "overlay",
                            "size": 10,
                            "solidity": 0.2
                          }
                        },
                        "type": "barpolar"
                      }
                    ],
                    "carpet": [
                      {
                        "aaxis": {
                          "endlinecolor": "#2a3f5f",
                          "gridcolor": "white",
                          "linecolor": "white",
                          "minorgridcolor": "white",
                          "startlinecolor": "#2a3f5f"
                        },
                        "baxis": {
                          "endlinecolor": "#2a3f5f",
                          "gridcolor": "white",
                          "linecolor": "white",
                          "minorgridcolor": "white",
                          "startlinecolor": "#2a3f5f"
                        },
                        "type": "carpet"
                      }
                    ],
                    "choropleth": [
                      {
                        "colorbar": {
                          "outlinewidth": 0,
                          "ticks": ""
                        },
                        "type": "choropleth"
                      }
                    ],
                    "contour": [
                      {
                        "colorbar": {
                          "outlinewidth": 0,
                          "ticks": ""
                        },
                        "colorscale": [
                          [
                            0,
                            "#0d0887"
                          ],
                          [
                            0.1111111111111111,
                            "#46039f"
                          ],
                          [
                            0.2222222222222222,
                            "#7201a8"
                          ],
                          [
                            0.3333333333333333,
                            "#9c179e"
                          ],
                          [
                            0.4444444444444444,
                            "#bd3786"
                          ],
                          [
                            0.5555555555555556,
                            "#d8576b"
                          ],
                          [
                            0.6666666666666666,
                            "#ed7953"
                          ],
                          [
                            0.7777777777777778,
                            "#fb9f3a"
                          ],
                          [
                            0.8888888888888888,
                            "#fdca26"
                          ],
                          [
                            1,
                            "#f0f921"
                          ]
                        ],
                        "type": "contour"
                      }
                    ],
                    "contourcarpet": [
                      {
                        "colorbar": {
                          "outlinewidth": 0,
                          "ticks": ""
                        },
                        "type": "contourcarpet"
                      }
                    ],
                    "heatmap": [
                      {
                        "colorbar": {
                          "outlinewidth": 0,
                          "ticks": ""
                        },
                        "colorscale": [
                          [
                            0,
                            "#0d0887"
                          ],
                          [
                            0.1111111111111111,
                            "#46039f"
                          ],
                          [
                            0.2222222222222222,
                            "#7201a8"
                          ],
                          [
                            0.3333333333333333,
                            "#9c179e"
                          ],
                          [
                            0.4444444444444444,
                            "#bd3786"
                          ],
                          [
                            0.5555555555555556,
                            "#d8576b"
                          ],
                          [
                            0.6666666666666666,
                            "#ed7953"
                          ],
                          [
                            0.7777777777777778,
                            "#fb9f3a"
                          ],
                          [
                            0.8888888888888888,
                            "#fdca26"
                          ],
                          [
                            1,
                            "#f0f921"
                          ]
                        ],
                        "type": "heatmap"
                      }
                    ],
                    "heatmapgl": [
                      {
                        "colorbar": {
                          "outlinewidth": 0,
                          "ticks": ""
                        },
                        "colorscale": [
                          [
                            0,
                            "#0d0887"
                          ],
                          [
                            0.1111111111111111,
                            "#46039f"
                          ],
                          [
                            0.2222222222222222,
                            "#7201a8"
                          ],
                          [
                            0.3333333333333333,
                            "#9c179e"
                          ],
                          [
                            0.4444444444444444,
                            "#bd3786"
                          ],
                          [
                            0.5555555555555556,
                            "#d8576b"
                          ],
                          [
                            0.6666666666666666,
                            "#ed7953"
                          ],
                          [
                            0.7777777777777778,
                            "#fb9f3a"
                          ],
                          [
                            0.8888888888888888,
                            "#fdca26"
                          ],
                          [
                            1,
                            "#f0f921"
                          ]
                        ],
                        "type": "heatmapgl"
                      }
                    ],
                    "histogram": [
                      {
                        "marker": {
                          "pattern": {
                            "fillmode": "overlay",
                            "size": 10,
                            "solidity": 0.2
                          }
                        },
                        "type": "histogram"
                      }
                    ],
                    "histogram2d": [
                      {
                        "colorbar": {
                          "outlinewidth": 0,
                          "ticks": ""
                        },
                        "colorscale": [
                          [
                            0,
                            "#0d0887"
                          ],
                          [
                            0.1111111111111111,
                            "#46039f"
                          ],
                          [
                            0.2222222222222222,
                            "#7201a8"
                          ],
                          [
                            0.3333333333333333,
                            "#9c179e"
                          ],
                          [
                            0.4444444444444444,
                            "#bd3786"
                          ],
                          [
                            0.5555555555555556,
                            "#d8576b"
                          ],
                          [
                            0.6666666666666666,
                            "#ed7953"
                          ],
                          [
                            0.7777777777777778,
                            "#fb9f3a"
                          ],
                          [
                            0.8888888888888888,
                            "#fdca26"
                          ],
                          [
                            1,
                            "#f0f921"
                          ]
                        ],
                        "type": "histogram2d"
                      }
                    ],
                    "histogram2dcontour": [
                      {
                        "colorbar": {
                          "outlinewidth": 0,
                          "ticks": ""
                        },
                        "colorscale": [
                          [
                            0,
                            "#0d0887"
                          ],
                          [
                            0.1111111111111111,
                            "#46039f"
                          ],
                          [
                            0.2222222222222222,
                            "#7201a8"
                          ],
                          [
                            0.3333333333333333,
                            "#9c179e"
                          ],
                          [
                            0.4444444444444444,
                            "#bd3786"
                          ],
                          [
                            0.5555555555555556,
                            "#d8576b"
                          ],
                          [
                            0.6666666666666666,
                            "#ed7953"
                          ],
                          [
                            0.7777777777777778,
                            "#fb9f3a"
                          ],
                          [
                            0.8888888888888888,
                            "#fdca26"
                          ],
                          [
                            1,
                            "#f0f921"
                          ]
                        ],
                        "type": "histogram2dcontour"
                      }
                    ],
                    "mesh3d": [
                      {
                        "colorbar": {
                          "outlinewidth": 0,
                          "ticks": ""
                        },
                        "type": "mesh3d"
                      }
                    ],
                    "parcoords": [
                      {
                        "line": {
                          "colorbar": {
                            "outlinewidth": 0,
                            "ticks": ""
                          }
                        },
                        "type": "parcoords"
                      }
                    ],
                    "pie": [
                      {
                        "automargin": true,
                        "type": "pie"
                      }
                    ],
                    "scatter": [
                      {
                        "fillpattern": {
                          "fillmode": "overlay",
                          "size": 10,
                          "solidity": 0.2
                        },
                        "type": "scatter"
                      }
                    ],
                    "scatter3d": [
                      {
                        "line": {
                          "colorbar": {
                            "outlinewidth": 0,
                            "ticks": ""
                          }
                        },
                        "marker": {
                          "colorbar": {
                            "outlinewidth": 0,
                            "ticks": ""
                          }
                        },
                        "type": "scatter3d"
                      }
                    ],
                    "scattercarpet": [
                      {
                        "marker": {
                          "colorbar": {
                            "outlinewidth": 0,
                            "ticks": ""
                          }
                        },
                        "type": "scattercarpet"
                      }
                    ],
                    "scattergeo": [
                      {
                        "marker": {
                          "colorbar": {
                            "outlinewidth": 0,
                            "ticks": ""
                          }
                        },
                        "type": "scattergeo"
                      }
                    ],
                    "scattergl": [
                      {
                        "marker": {
                          "colorbar": {
                            "outlinewidth": 0,
                            "ticks": ""
                          }
                        },
                        "type": "scattergl"
                      }
                    ],
                    "scattermapbox": [
                      {
                        "marker": {
                          "colorbar": {
                            "outlinewidth": 0,
                            "ticks": ""
                          }
                        },
                        "type": "scattermapbox"
                      }
                    ],
                    "scatterpolar": [
                      {
                        "marker": {
                          "colorbar": {
                            "outlinewidth": 0,
                            "ticks": ""
                          }
                        },
                        "type": "scatterpolar"
                      }
                    ],
                    "scatterpolargl": [
                      {
                        "marker": {
                          "colorbar": {
                            "outlinewidth": 0,
                            "ticks": ""
                          }
                        },
                        "type": "scatterpolargl"
                      }
                    ],
                    "scatterternary": [
                      {
                        "marker": {
                          "colorbar": {
                            "outlinewidth": 0,
                            "ticks": ""
                          }
                        },
                        "type": "scatterternary"
                      }
                    ],
                    "surface": [
                      {
                        "colorbar": {
                          "outlinewidth": 0,
                          "ticks": ""
                        },
                        "colorscale": [
                          [
                            0,
                            "#0d0887"
                          ],
                          [
                            0.1111111111111111,
                            "#46039f"
                          ],
                          [
                            0.2222222222222222,
                            "#7201a8"
                          ],
                          [
                            0.3333333333333333,
                            "#9c179e"
                          ],
                          [
                            0.4444444444444444,
                            "#bd3786"
                          ],
                          [
                            0.5555555555555556,
                            "#d8576b"
                          ],
                          [
                            0.6666666666666666,
                            "#ed7953"
                          ],
                          [
                            0.7777777777777778,
                            "#fb9f3a"
                          ],
                          [
                            0.8888888888888888,
                            "#fdca26"
                          ],
                          [
                            1,
                            "#f0f921"
                          ]
                        ],
                        "type": "surface"
                      }
                    ],
                    "table": [
                      {
                        "cells": {
                          "fill": {
                            "color": "#EBF0F8"
                          },
                          "line": {
                            "color": "white"
                          }
                        },
                        "header": {
                          "fill": {
                            "color": "#C8D4E3"
                          },
                          "line": {
                            "color": "white"
                          }
                        },
                        "type": "table"
                      }
                    ]
                  },
                  "layout": {
                    "annotationdefaults": {
                      "arrowcolor": "#2a3f5f",
                      "arrowhead": 0,
                      "arrowwidth": 1
                    },
                    "autotypenumbers": "strict",
                    "coloraxis": {
                      "colorbar": {
                        "outlinewidth": 0,
                        "ticks": ""
                      }
                    },
                    "colorscale": {
                      "diverging": [
                        [
                          0,
                          "#8e0152"
                        ],
                        [
                          0.1,
                          "#c51b7d"
                        ],
                        [
                          0.2,
                          "#de77ae"
                        ],
                        [
                          0.3,
                          "#f1b6da"
                        ],
                        [
                          0.4,
                          "#fde0ef"
                        ],
                        [
                          0.5,
                          "#f7f7f7"
                        ],
                        [
                          0.6,
                          "#e6f5d0"
                        ],
                        [
                          0.7,
                          "#b8e186"
                        ],
                        [
                          0.8,
                          "#7fbc41"
                        ],
                        [
                          0.9,
                          "#4d9221"
                        ],
                        [
                          1,
                          "#276419"
                        ]
                      ],
                      "sequential": [
                        [
                          0,
                          "#0d0887"
                        ],
                        [
                          0.1111111111111111,
                          "#46039f"
                        ],
                        [
                          0.2222222222222222,
                          "#7201a8"
                        ],
                        [
                          0.3333333333333333,
                          "#9c179e"
                        ],
                        [
                          0.4444444444444444,
                          "#bd3786"
                        ],
                        [
                          0.5555555555555556,
                          "#d8576b"
                        ],
                        [
                          0.6666666666666666,
                          "#ed7953"
                        ],
                        [
                          0.7777777777777778,
                          "#fb9f3a"
                        ],
                        [
                          0.8888888888888888,
                          "#fdca26"
                        ],
                        [
                          1,
                          "#f0f921"
                        ]
                      ],
                      "sequentialminus": [
                        [
                          0,
                          "#0d0887"
                        ],
                        [
                          0.1111111111111111,
                          "#46039f"
                        ],
                        [
                          0.2222222222222222,
                          "#7201a8"
                        ],
                        [
                          0.3333333333333333,
                          "#9c179e"
                        ],
                        [
                          0.4444444444444444,
                          "#bd3786"
                        ],
                        [
                          0.5555555555555556,
                          "#d8576b"
                        ],
                        [
                          0.6666666666666666,
                          "#ed7953"
                        ],
                        [
                          0.7777777777777778,
                          "#fb9f3a"
                        ],
                        [
                          0.8888888888888888,
                          "#fdca26"
                        ],
                        [
                          1,
                          "#f0f921"
                        ]
                      ]
                    },
                    "colorway": [
                      "#636efa",
                      "#EF553B",
                      "#00cc96",
                      "#ab63fa",
                      "#FFA15A",
                      "#19d3f3",
                      "#FF6692",
                      "#B6E880",
                      "#FF97FF",
                      "#FECB52"
                    ],
                    "font": {
                      "color": "#2a3f5f"
                    },
                    "geo": {
                      "bgcolor": "white",
                      "lakecolor": "white",
                      "landcolor": "#E5ECF6",
                      "showlakes": true,
                      "showland": true,
                      "subunitcolor": "white"
                    },
                    "hoverlabel": {
                      "align": "left"
                    },
                    "hovermode": "closest",
                    "mapbox": {
                      "style": "light"
                    },
                    "paper_bgcolor": "white",
                    "plot_bgcolor": "#E5ECF6",
                    "polar": {
                      "angularaxis": {
                        "gridcolor": "white",
                        "linecolor": "white",
                        "ticks": ""
                      },
                      "bgcolor": "#E5ECF6",
                      "radialaxis": {
                        "gridcolor": "white",
                        "linecolor": "white",
                        "ticks": ""
                      }
                    },
                    "scene": {
                      "xaxis": {
                        "backgroundcolor": "#E5ECF6",
                        "gridcolor": "white",
                        "gridwidth": 2,
                        "linecolor": "white",
                        "showbackground": true,
                        "ticks": "",
                        "zerolinecolor": "white"
                      },
                      "yaxis": {
                        "backgroundcolor": "#E5ECF6",
                        "gridcolor": "white",
                        "gridwidth": 2,
                        "linecolor": "white",
                        "showbackground": true,
                        "ticks": "",
                        "zerolinecolor": "white"
                      },
                      "zaxis": {
                        "backgroundcolor": "#E5ECF6",
                        "gridcolor": "white",
                        "gridwidth": 2,
                        "linecolor": "white",
                        "showbackground": true,
                        "ticks": "",
                        "zerolinecolor": "white"
                      }
                    },
                    "shapedefaults": {
                      "line": {
                        "color": "#2a3f5f"
                      }
                    },
                    "ternary": {
                      "aaxis": {
                        "gridcolor": "white",
                        "linecolor": "white",
                        "ticks": ""
                      },
                      "baxis": {
                        "gridcolor": "white",
                        "linecolor": "white",
                        "ticks": ""
                      },
                      "bgcolor": "#E5ECF6",
                      "caxis": {
                        "gridcolor": "white",
                        "linecolor": "white",
                        "ticks": ""
                      }
                    },
                    "title": {
                      "x": 0.05
                    },
                    "xaxis": {
                      "automargin": true,
                      "gridcolor": "white",
                      "linecolor": "white",
                      "ticks": "",
                      "title": {
                        "standoff": 15
                      },
                      "zerolinecolor": "white",
                      "zerolinewidth": 2
                    },
                    "yaxis": {
                      "automargin": true,
                      "gridcolor": "white",
                      "linecolor": "white",
                      "ticks": "",
                      "title": {
                        "standoff": 15
                      },
                      "zerolinecolor": "white",
                      "zerolinewidth": 2
                    }
                  }
                },
                "title": {
                  "text": "A Figure Specified By Python Dictionary"
                }
              }
            }
          },
          "metadata": {},
          "output_type": "display_data"
        }
      ],
      "source": [
        "import plotly.io as pio\n",
        "\n",
        "\n",
        "fig = dict({\n",
        "    \"data\": [{\"type\": \"bar\",\n",
        "              \"x\": [1, 2, 3],\n",
        "              \"y\": [1, 3, 2]}],\n",
        "    \"layout\": {\"title\": {\"text\": \"A Figure Specified By Python Dictionary\"}}\n",
        "})\n",
        "\n",
        "pio.show(fig)"
      ]
    },
    {
      "cell_type": "code",
      "execution_count": 3,
      "metadata": {},
      "outputs": [
        {
          "data": {
            "application/vnd.plotly.v1+json": {
              "config": {
                "plotlyServerURL": "https://plot.ly"
              },
              "data": [
                {
                  "contours": {
                    "z": {
                      "highlightcolor": "limegreen",
                      "project": {
                        "z": true
                      },
                      "show": true,
                      "usecolormap": true
                    }
                  },
                  "type": "surface",
                  "z": [
                    [
                      0,
                      27.80985,
                      49.61936,
                      83.08067,
                      116.6632,
                      130.414,
                      150.7206,
                      220.1871,
                      156.1536,
                      148.6416,
                      203.7845,
                      206.0386,
                      107.1618,
                      68.36975,
                      45.3359,
                      49.96142,
                      21.89279,
                      17.02552,
                      11.74317,
                      14.75226,
                      13.6671,
                      5.677561,
                      3.31234,
                      1.156517,
                      -0.147662
                    ],
                    [
                      1,
                      27.71966,
                      48.55022,
                      65.21374,
                      95.27666,
                      116.9964,
                      133.9056,
                      152.3412,
                      151.934,
                      160.1139,
                      179.5327,
                      147.6184,
                      170.3943,
                      121.8194,
                      52.58537,
                      33.08871,
                      38.40972,
                      44.24843,
                      69.5786,
                      4.019351,
                      3.050024,
                      3.039719,
                      2.996142,
                      2.967954,
                      1.999594
                    ],
                    [
                      2,
                      30.4267,
                      33.47752,
                      44.80953,
                      62.47495,
                      77.43523,
                      104.2153,
                      102.7393,
                      137.0004,
                      186.0706,
                      219.3173,
                      181.7615,
                      120.9154,
                      143.1835,
                      82.40501,
                      48.47132,
                      74.71461,
                      60.0909,
                      7.073525,
                      6.089851,
                      6.53745,
                      6.666096,
                      7.306965,
                      5.73684,
                      3.625628
                    ],
                    [
                      3,
                      16.66549,
                      30.1086,
                      39.96952,
                      44.12225,
                      59.57512,
                      77.56929,
                      106.8925,
                      166.5539,
                      175.2381,
                      185.2815,
                      154.5056,
                      83.0433,
                      62.61732,
                      62.33167,
                      60.55916,
                      55.92124,
                      15.17284,
                      8.248324,
                      36.68087,
                      61.93413,
                      20.26867,
                      68.58819,
                      46.49812,
                      0.2360095
                    ],
                    [
                      4,
                      8.815617,
                      18.3516,
                      8.658275,
                      27.5859,
                      48.62691,
                      60.18013,
                      91.3286,
                      145.7109,
                      116.0653,
                      106.2662,
                      68.69447,
                      53.10596,
                      37.92797,
                      47.95942,
                      47.42691,
                      69.20731,
                      44.95468,
                      29.17197,
                      17.91674,
                      16.25515,
                      14.65559,
                      17.26048,
                      31.22245,
                      46.71704
                    ],
                    [
                      5,
                      6.628881,
                      10.41339,
                      24.81939,
                      26.08952,
                      30.1605,
                      52.30802,
                      64.71007,
                      76.30823,
                      84.63686,
                      99.4324,
                      62.52132,
                      46.81647,
                      55.76606,
                      82.4099,
                      140.2647,
                      81.26501,
                      56.45756,
                      30.42164,
                      17.28782,
                      8.302431,
                      2.981626,
                      2.698536,
                      5.886086,
                      5.268358
                    ],
                    [
                      6,
                      21.83975,
                      6.63927,
                      18.97085,
                      32.89204,
                      43.15014,
                      62.86014,
                      104.6657,
                      130.2294,
                      114.8494,
                      106.9873,
                      61.89647,
                      55.55682,
                      86.80986,
                      89.27802,
                      122.4221,
                      123.9698,
                      109.0952,
                      98.41956,
                      77.61374,
                      32.49031,
                      14.67344,
                      7.370775,
                      0.03711011,
                      0.6423392
                    ],
                    [
                      7,
                      53.34303,
                      26.79797,
                      6.63927,
                      10.88787,
                      17.2044,
                      56.18116,
                      79.70141,
                      90.8453,
                      98.27675,
                      80.87243,
                      74.7931,
                      75.54661,
                      73.4373,
                      74.11694,
                      68.1749,
                      46.24076,
                      39.93857,
                      31.21653,
                      36.88335,
                      40.02525,
                      117.4297,
                      12.70328,
                      1.729771,
                      0
                    ],
                    [
                      8,
                      25.66785,
                      63.05717,
                      22.1414,
                      17.074,
                      41.74483,
                      60.27227,
                      81.42432,
                      114.444,
                      102.3234,
                      101.7878,
                      111.031,
                      119.2309,
                      114.0777,
                      110.5296,
                      59.19355,
                      42.47175,
                      14.63598,
                      6.944074,
                      6.944075,
                      27.74936,
                      0,
                      0,
                      0.09449376,
                      0.07732264
                    ],
                    [
                      9,
                      12.827,
                      69.20554,
                      46.76293,
                      13.96517,
                      33.88744,
                      61.82613,
                      84.74799,
                      121.122,
                      145.2741,
                      153.1797,
                      204.786,
                      227.9242,
                      236.3038,
                      228.3655,
                      79.34425,
                      25.93483,
                      6.944074,
                      6.944074,
                      6.944075,
                      7.553681,
                      0,
                      0,
                      0,
                      0
                    ],
                    [
                      10,
                      0,
                      68.66396,
                      59.0435,
                      33.35762,
                      47.45282,
                      57.8355,
                      78.91689,
                      107.8275,
                      168.0053,
                      130.9597,
                      212.5541,
                      165.8122,
                      210.2429,
                      181.1713,
                      189.7617,
                      137.3378,
                      84.65395,
                      8.677168,
                      6.956576,
                      8.468093,
                      0,
                      0,
                      0,
                      0
                    ],
                    [
                      11,
                      0,
                      95.17499,
                      80.03818,
                      59.89862,
                      39.58476,
                      50.28058,
                      63.81641,
                      80.61302,
                      66.37824,
                      198.7651,
                      244.3467,
                      294.2474,
                      264.3517,
                      176.4082,
                      60.21857,
                      77.41475,
                      53.16981,
                      56.16393,
                      6.949235,
                      7.531059,
                      3.780177,
                      0,
                      0,
                      0
                    ],
                    [
                      12,
                      0,
                      134.9879,
                      130.3696,
                      96.86325,
                      75.70494,
                      58.86466,
                      57.20374,
                      55.18837,
                      78.128,
                      108.5582,
                      154.3774,
                      319.1686,
                      372.8826,
                      275.4655,
                      130.2632,
                      54.93822,
                      25.49719,
                      8.047439,
                      8.084393,
                      5.115252,
                      5.678269,
                      0,
                      0,
                      0
                    ],
                    [
                      13,
                      0,
                      48.08919,
                      142.5558,
                      140.3777,
                      154.7261,
                      87.9361,
                      58.11092,
                      52.83869,
                      67.14822,
                      83.66798,
                      118.9242,
                      150.0681,
                      272.9709,
                      341.1366,
                      238.664,
                      190.2,
                      116.8943,
                      91.48672,
                      14.0157,
                      42.29277,
                      5.115252,
                      0,
                      0,
                      0
                    ],
                    [
                      14,
                      0,
                      54.1941,
                      146.3839,
                      99.48143,
                      96.19411,
                      102.9473,
                      76.14089,
                      57.7844,
                      47.0402,
                      64.36799,
                      84.23767,
                      162.7181,
                      121.3275,
                      213.1646,
                      328.482,
                      285.4489,
                      283.8319,
                      212.815,
                      164.549,
                      92.29631,
                      7.244015,
                      1.167,
                      0,
                      0
                    ],
                    [
                      15,
                      0,
                      6.919659,
                      195.1709,
                      132.5253,
                      135.2341,
                      89.85069,
                      89.45549,
                      60.29967,
                      50.33806,
                      39.17583,
                      59.06854,
                      74.52159,
                      84.93402,
                      187.1219,
                      123.9673,
                      103.7027,
                      128.986,
                      165.1283,
                      249.7054,
                      95.39966,
                      10.00284,
                      2.39255,
                      0,
                      0
                    ],
                    [
                      16,
                      0,
                      21.73871,
                      123.1339,
                      176.7414,
                      158.2698,
                      137.235,
                      105.3089,
                      86.63255,
                      53.11591,
                      29.03865,
                      30.40539,
                      39.04902,
                      49.23405,
                      63.27853,
                      111.4215,
                      101.1956,
                      40.00962,
                      59.84565,
                      74.51253,
                      17.06316,
                      2.435141,
                      2.287471,
                      -0.0003636982,
                      0
                    ],
                    [
                      17,
                      0,
                      0,
                      62.04672,
                      136.3122,
                      201.7952,
                      168.1343,
                      95.2046,
                      58.90624,
                      46.94091,
                      49.27053,
                      37.10416,
                      17.97011,
                      30.93697,
                      33.39257,
                      44.03077,
                      55.64542,
                      78.22423,
                      14.42782,
                      9.954997,
                      7.768213,
                      13.0254,
                      21.73166,
                      2.156372,
                      0.5317867
                    ],
                    [
                      18,
                      0,
                      0,
                      79.62993,
                      139.6978,
                      173.167,
                      192.8718,
                      196.3499,
                      144.6611,
                      106.5424,
                      57.16653,
                      41.16107,
                      32.12764,
                      13.8566,
                      10.91772,
                      12.07177,
                      22.38254,
                      24.72105,
                      6.803666,
                      4.200841,
                      16.46857,
                      15.70744,
                      33.96221,
                      7.575688,
                      -0.04880907
                    ],
                    [
                      19,
                      0,
                      0,
                      33.2664,
                      57.53643,
                      167.2241,
                      196.4833,
                      194.7966,
                      182.1884,
                      119.6961,
                      73.02113,
                      48.36549,
                      33.74652,
                      26.2379,
                      16.3578,
                      6.811293,
                      6.63927,
                      6.639271,
                      8.468093,
                      6.194273,
                      3.591233,
                      3.81486,
                      8.600739,
                      5.21889,
                      0
                    ],
                    [
                      20,
                      0,
                      0,
                      29.77937,
                      54.97282,
                      144.7995,
                      207.4904,
                      165.3432,
                      171.4047,
                      174.9216,
                      100.2733,
                      61.46441,
                      50.19171,
                      26.08209,
                      17.18218,
                      8.468093,
                      6.63927,
                      6.334467,
                      6.334467,
                      5.666687,
                      4.272203,
                      0,
                      0,
                      0,
                      0
                    ],
                    [
                      21,
                      0,
                      0,
                      31.409,
                      132.7418,
                      185.5796,
                      121.8299,
                      185.3841,
                      160.6566,
                      116.1478,
                      118.1078,
                      141.7946,
                      65.56351,
                      48.84066,
                      23.13864,
                      18.12932,
                      10.28531,
                      6.029663,
                      6.044627,
                      5.694764,
                      3.739085,
                      3.896037,
                      0,
                      0,
                      0
                    ],
                    [
                      22,
                      0,
                      0,
                      19.58994,
                      42.30355,
                      96.26777,
                      187.1207,
                      179.6626,
                      221.3898,
                      154.2617,
                      142.1604,
                      148.5737,
                      67.17937,
                      40.69044,
                      39.74512,
                      26.10166,
                      14.48469,
                      8.65873,
                      3.896037,
                      3.571392,
                      3.896037,
                      3.896037,
                      3.896037,
                      1.077756,
                      0
                    ],
                    [
                      23,
                      0.001229679,
                      3.008948,
                      5.909858,
                      33.50574,
                      104.3341,
                      152.2165,
                      198.1988,
                      191.841,
                      228.7349,
                      168.1041,
                      144.2759,
                      110.7436,
                      57.65214,
                      42.63504,
                      27.91891,
                      15.41052,
                      8.056102,
                      3.90283,
                      3.879774,
                      3.936718,
                      3.968634,
                      0.1236256,
                      3.985531,
                      -0.1835741
                    ],
                    [
                      24,
                      0,
                      5.626141,
                      7.676256,
                      63.16226,
                      45.99762,
                      79.56688,
                      227.311,
                      203.9287,
                      172.5618,
                      177.1462,
                      140.4554,
                      123.9905,
                      110.346,
                      65.12319,
                      34.31887,
                      24.5278,
                      9.561069,
                      3.334991,
                      5.590495,
                      5.487353,
                      5.909499,
                      5.868994,
                      5.833817,
                      3.568177
                    ]
                  ]
                }
              ],
              "layout": {
                "autosize": false,
                "height": 800,
                "margin": {
                  "b": 65,
                  "l": 65,
                  "r": 50,
                  "t": 90
                },
                "template": {
                  "data": {
                    "bar": [
                      {
                        "error_x": {
                          "color": "#2a3f5f"
                        },
                        "error_y": {
                          "color": "#2a3f5f"
                        },
                        "marker": {
                          "line": {
                            "color": "#E5ECF6",
                            "width": 0.5
                          },
                          "pattern": {
                            "fillmode": "overlay",
                            "size": 10,
                            "solidity": 0.2
                          }
                        },
                        "type": "bar"
                      }
                    ],
                    "barpolar": [
                      {
                        "marker": {
                          "line": {
                            "color": "#E5ECF6",
                            "width": 0.5
                          },
                          "pattern": {
                            "fillmode": "overlay",
                            "size": 10,
                            "solidity": 0.2
                          }
                        },
                        "type": "barpolar"
                      }
                    ],
                    "carpet": [
                      {
                        "aaxis": {
                          "endlinecolor": "#2a3f5f",
                          "gridcolor": "white",
                          "linecolor": "white",
                          "minorgridcolor": "white",
                          "startlinecolor": "#2a3f5f"
                        },
                        "baxis": {
                          "endlinecolor": "#2a3f5f",
                          "gridcolor": "white",
                          "linecolor": "white",
                          "minorgridcolor": "white",
                          "startlinecolor": "#2a3f5f"
                        },
                        "type": "carpet"
                      }
                    ],
                    "choropleth": [
                      {
                        "colorbar": {
                          "outlinewidth": 0,
                          "ticks": ""
                        },
                        "type": "choropleth"
                      }
                    ],
                    "contour": [
                      {
                        "colorbar": {
                          "outlinewidth": 0,
                          "ticks": ""
                        },
                        "colorscale": [
                          [
                            0,
                            "#0d0887"
                          ],
                          [
                            0.1111111111111111,
                            "#46039f"
                          ],
                          [
                            0.2222222222222222,
                            "#7201a8"
                          ],
                          [
                            0.3333333333333333,
                            "#9c179e"
                          ],
                          [
                            0.4444444444444444,
                            "#bd3786"
                          ],
                          [
                            0.5555555555555556,
                            "#d8576b"
                          ],
                          [
                            0.6666666666666666,
                            "#ed7953"
                          ],
                          [
                            0.7777777777777778,
                            "#fb9f3a"
                          ],
                          [
                            0.8888888888888888,
                            "#fdca26"
                          ],
                          [
                            1,
                            "#f0f921"
                          ]
                        ],
                        "type": "contour"
                      }
                    ],
                    "contourcarpet": [
                      {
                        "colorbar": {
                          "outlinewidth": 0,
                          "ticks": ""
                        },
                        "type": "contourcarpet"
                      }
                    ],
                    "heatmap": [
                      {
                        "colorbar": {
                          "outlinewidth": 0,
                          "ticks": ""
                        },
                        "colorscale": [
                          [
                            0,
                            "#0d0887"
                          ],
                          [
                            0.1111111111111111,
                            "#46039f"
                          ],
                          [
                            0.2222222222222222,
                            "#7201a8"
                          ],
                          [
                            0.3333333333333333,
                            "#9c179e"
                          ],
                          [
                            0.4444444444444444,
                            "#bd3786"
                          ],
                          [
                            0.5555555555555556,
                            "#d8576b"
                          ],
                          [
                            0.6666666666666666,
                            "#ed7953"
                          ],
                          [
                            0.7777777777777778,
                            "#fb9f3a"
                          ],
                          [
                            0.8888888888888888,
                            "#fdca26"
                          ],
                          [
                            1,
                            "#f0f921"
                          ]
                        ],
                        "type": "heatmap"
                      }
                    ],
                    "heatmapgl": [
                      {
                        "colorbar": {
                          "outlinewidth": 0,
                          "ticks": ""
                        },
                        "colorscale": [
                          [
                            0,
                            "#0d0887"
                          ],
                          [
                            0.1111111111111111,
                            "#46039f"
                          ],
                          [
                            0.2222222222222222,
                            "#7201a8"
                          ],
                          [
                            0.3333333333333333,
                            "#9c179e"
                          ],
                          [
                            0.4444444444444444,
                            "#bd3786"
                          ],
                          [
                            0.5555555555555556,
                            "#d8576b"
                          ],
                          [
                            0.6666666666666666,
                            "#ed7953"
                          ],
                          [
                            0.7777777777777778,
                            "#fb9f3a"
                          ],
                          [
                            0.8888888888888888,
                            "#fdca26"
                          ],
                          [
                            1,
                            "#f0f921"
                          ]
                        ],
                        "type": "heatmapgl"
                      }
                    ],
                    "histogram": [
                      {
                        "marker": {
                          "pattern": {
                            "fillmode": "overlay",
                            "size": 10,
                            "solidity": 0.2
                          }
                        },
                        "type": "histogram"
                      }
                    ],
                    "histogram2d": [
                      {
                        "colorbar": {
                          "outlinewidth": 0,
                          "ticks": ""
                        },
                        "colorscale": [
                          [
                            0,
                            "#0d0887"
                          ],
                          [
                            0.1111111111111111,
                            "#46039f"
                          ],
                          [
                            0.2222222222222222,
                            "#7201a8"
                          ],
                          [
                            0.3333333333333333,
                            "#9c179e"
                          ],
                          [
                            0.4444444444444444,
                            "#bd3786"
                          ],
                          [
                            0.5555555555555556,
                            "#d8576b"
                          ],
                          [
                            0.6666666666666666,
                            "#ed7953"
                          ],
                          [
                            0.7777777777777778,
                            "#fb9f3a"
                          ],
                          [
                            0.8888888888888888,
                            "#fdca26"
                          ],
                          [
                            1,
                            "#f0f921"
                          ]
                        ],
                        "type": "histogram2d"
                      }
                    ],
                    "histogram2dcontour": [
                      {
                        "colorbar": {
                          "outlinewidth": 0,
                          "ticks": ""
                        },
                        "colorscale": [
                          [
                            0,
                            "#0d0887"
                          ],
                          [
                            0.1111111111111111,
                            "#46039f"
                          ],
                          [
                            0.2222222222222222,
                            "#7201a8"
                          ],
                          [
                            0.3333333333333333,
                            "#9c179e"
                          ],
                          [
                            0.4444444444444444,
                            "#bd3786"
                          ],
                          [
                            0.5555555555555556,
                            "#d8576b"
                          ],
                          [
                            0.6666666666666666,
                            "#ed7953"
                          ],
                          [
                            0.7777777777777778,
                            "#fb9f3a"
                          ],
                          [
                            0.8888888888888888,
                            "#fdca26"
                          ],
                          [
                            1,
                            "#f0f921"
                          ]
                        ],
                        "type": "histogram2dcontour"
                      }
                    ],
                    "mesh3d": [
                      {
                        "colorbar": {
                          "outlinewidth": 0,
                          "ticks": ""
                        },
                        "type": "mesh3d"
                      }
                    ],
                    "parcoords": [
                      {
                        "line": {
                          "colorbar": {
                            "outlinewidth": 0,
                            "ticks": ""
                          }
                        },
                        "type": "parcoords"
                      }
                    ],
                    "pie": [
                      {
                        "automargin": true,
                        "type": "pie"
                      }
                    ],
                    "scatter": [
                      {
                        "fillpattern": {
                          "fillmode": "overlay",
                          "size": 10,
                          "solidity": 0.2
                        },
                        "type": "scatter"
                      }
                    ],
                    "scatter3d": [
                      {
                        "line": {
                          "colorbar": {
                            "outlinewidth": 0,
                            "ticks": ""
                          }
                        },
                        "marker": {
                          "colorbar": {
                            "outlinewidth": 0,
                            "ticks": ""
                          }
                        },
                        "type": "scatter3d"
                      }
                    ],
                    "scattercarpet": [
                      {
                        "marker": {
                          "colorbar": {
                            "outlinewidth": 0,
                            "ticks": ""
                          }
                        },
                        "type": "scattercarpet"
                      }
                    ],
                    "scattergeo": [
                      {
                        "marker": {
                          "colorbar": {
                            "outlinewidth": 0,
                            "ticks": ""
                          }
                        },
                        "type": "scattergeo"
                      }
                    ],
                    "scattergl": [
                      {
                        "marker": {
                          "colorbar": {
                            "outlinewidth": 0,
                            "ticks": ""
                          }
                        },
                        "type": "scattergl"
                      }
                    ],
                    "scattermapbox": [
                      {
                        "marker": {
                          "colorbar": {
                            "outlinewidth": 0,
                            "ticks": ""
                          }
                        },
                        "type": "scattermapbox"
                      }
                    ],
                    "scatterpolar": [
                      {
                        "marker": {
                          "colorbar": {
                            "outlinewidth": 0,
                            "ticks": ""
                          }
                        },
                        "type": "scatterpolar"
                      }
                    ],
                    "scatterpolargl": [
                      {
                        "marker": {
                          "colorbar": {
                            "outlinewidth": 0,
                            "ticks": ""
                          }
                        },
                        "type": "scatterpolargl"
                      }
                    ],
                    "scatterternary": [
                      {
                        "marker": {
                          "colorbar": {
                            "outlinewidth": 0,
                            "ticks": ""
                          }
                        },
                        "type": "scatterternary"
                      }
                    ],
                    "surface": [
                      {
                        "colorbar": {
                          "outlinewidth": 0,
                          "ticks": ""
                        },
                        "colorscale": [
                          [
                            0,
                            "#0d0887"
                          ],
                          [
                            0.1111111111111111,
                            "#46039f"
                          ],
                          [
                            0.2222222222222222,
                            "#7201a8"
                          ],
                          [
                            0.3333333333333333,
                            "#9c179e"
                          ],
                          [
                            0.4444444444444444,
                            "#bd3786"
                          ],
                          [
                            0.5555555555555556,
                            "#d8576b"
                          ],
                          [
                            0.6666666666666666,
                            "#ed7953"
                          ],
                          [
                            0.7777777777777778,
                            "#fb9f3a"
                          ],
                          [
                            0.8888888888888888,
                            "#fdca26"
                          ],
                          [
                            1,
                            "#f0f921"
                          ]
                        ],
                        "type": "surface"
                      }
                    ],
                    "table": [
                      {
                        "cells": {
                          "fill": {
                            "color": "#EBF0F8"
                          },
                          "line": {
                            "color": "white"
                          }
                        },
                        "header": {
                          "fill": {
                            "color": "#C8D4E3"
                          },
                          "line": {
                            "color": "white"
                          }
                        },
                        "type": "table"
                      }
                    ]
                  },
                  "layout": {
                    "annotationdefaults": {
                      "arrowcolor": "#2a3f5f",
                      "arrowhead": 0,
                      "arrowwidth": 1
                    },
                    "autotypenumbers": "strict",
                    "coloraxis": {
                      "colorbar": {
                        "outlinewidth": 0,
                        "ticks": ""
                      }
                    },
                    "colorscale": {
                      "diverging": [
                        [
                          0,
                          "#8e0152"
                        ],
                        [
                          0.1,
                          "#c51b7d"
                        ],
                        [
                          0.2,
                          "#de77ae"
                        ],
                        [
                          0.3,
                          "#f1b6da"
                        ],
                        [
                          0.4,
                          "#fde0ef"
                        ],
                        [
                          0.5,
                          "#f7f7f7"
                        ],
                        [
                          0.6,
                          "#e6f5d0"
                        ],
                        [
                          0.7,
                          "#b8e186"
                        ],
                        [
                          0.8,
                          "#7fbc41"
                        ],
                        [
                          0.9,
                          "#4d9221"
                        ],
                        [
                          1,
                          "#276419"
                        ]
                      ],
                      "sequential": [
                        [
                          0,
                          "#0d0887"
                        ],
                        [
                          0.1111111111111111,
                          "#46039f"
                        ],
                        [
                          0.2222222222222222,
                          "#7201a8"
                        ],
                        [
                          0.3333333333333333,
                          "#9c179e"
                        ],
                        [
                          0.4444444444444444,
                          "#bd3786"
                        ],
                        [
                          0.5555555555555556,
                          "#d8576b"
                        ],
                        [
                          0.6666666666666666,
                          "#ed7953"
                        ],
                        [
                          0.7777777777777778,
                          "#fb9f3a"
                        ],
                        [
                          0.8888888888888888,
                          "#fdca26"
                        ],
                        [
                          1,
                          "#f0f921"
                        ]
                      ],
                      "sequentialminus": [
                        [
                          0,
                          "#0d0887"
                        ],
                        [
                          0.1111111111111111,
                          "#46039f"
                        ],
                        [
                          0.2222222222222222,
                          "#7201a8"
                        ],
                        [
                          0.3333333333333333,
                          "#9c179e"
                        ],
                        [
                          0.4444444444444444,
                          "#bd3786"
                        ],
                        [
                          0.5555555555555556,
                          "#d8576b"
                        ],
                        [
                          0.6666666666666666,
                          "#ed7953"
                        ],
                        [
                          0.7777777777777778,
                          "#fb9f3a"
                        ],
                        [
                          0.8888888888888888,
                          "#fdca26"
                        ],
                        [
                          1,
                          "#f0f921"
                        ]
                      ]
                    },
                    "colorway": [
                      "#636efa",
                      "#EF553B",
                      "#00cc96",
                      "#ab63fa",
                      "#FFA15A",
                      "#19d3f3",
                      "#FF6692",
                      "#B6E880",
                      "#FF97FF",
                      "#FECB52"
                    ],
                    "font": {
                      "color": "#2a3f5f"
                    },
                    "geo": {
                      "bgcolor": "white",
                      "lakecolor": "white",
                      "landcolor": "#E5ECF6",
                      "showlakes": true,
                      "showland": true,
                      "subunitcolor": "white"
                    },
                    "hoverlabel": {
                      "align": "left"
                    },
                    "hovermode": "closest",
                    "mapbox": {
                      "style": "light"
                    },
                    "paper_bgcolor": "white",
                    "plot_bgcolor": "#E5ECF6",
                    "polar": {
                      "angularaxis": {
                        "gridcolor": "white",
                        "linecolor": "white",
                        "ticks": ""
                      },
                      "bgcolor": "#E5ECF6",
                      "radialaxis": {
                        "gridcolor": "white",
                        "linecolor": "white",
                        "ticks": ""
                      }
                    },
                    "scene": {
                      "xaxis": {
                        "backgroundcolor": "#E5ECF6",
                        "gridcolor": "white",
                        "gridwidth": 2,
                        "linecolor": "white",
                        "showbackground": true,
                        "ticks": "",
                        "zerolinecolor": "white"
                      },
                      "yaxis": {
                        "backgroundcolor": "#E5ECF6",
                        "gridcolor": "white",
                        "gridwidth": 2,
                        "linecolor": "white",
                        "showbackground": true,
                        "ticks": "",
                        "zerolinecolor": "white"
                      },
                      "zaxis": {
                        "backgroundcolor": "#E5ECF6",
                        "gridcolor": "white",
                        "gridwidth": 2,
                        "linecolor": "white",
                        "showbackground": true,
                        "ticks": "",
                        "zerolinecolor": "white"
                      }
                    },
                    "shapedefaults": {
                      "line": {
                        "color": "#2a3f5f"
                      }
                    },
                    "ternary": {
                      "aaxis": {
                        "gridcolor": "white",
                        "linecolor": "white",
                        "ticks": ""
                      },
                      "baxis": {
                        "gridcolor": "white",
                        "linecolor": "white",
                        "ticks": ""
                      },
                      "bgcolor": "#E5ECF6",
                      "caxis": {
                        "gridcolor": "white",
                        "linecolor": "white",
                        "ticks": ""
                      }
                    },
                    "title": {
                      "x": 0.05
                    },
                    "xaxis": {
                      "automargin": true,
                      "gridcolor": "white",
                      "linecolor": "white",
                      "ticks": "",
                      "title": {
                        "standoff": 15
                      },
                      "zerolinecolor": "white",
                      "zerolinewidth": 2
                    },
                    "yaxis": {
                      "automargin": true,
                      "gridcolor": "white",
                      "linecolor": "white",
                      "ticks": "",
                      "title": {
                        "standoff": 15
                      },
                      "zerolinecolor": "white",
                      "zerolinewidth": 2
                    }
                  }
                },
                "title": {
                  "text": "PBS Elevation"
                },
                "width": 800
              }
            }
          },
          "metadata": {},
          "output_type": "display_data"
        }
      ],
      "source": [
        "import plotly.graph_objects as go\n",
        "\n",
        "import pandas as pd\n",
        "\n",
        "z_data = pd.read_csv(\n",
        "    'https://raw.githubusercontent.com/plotly/datasets/master/api_docs/mt_bruno_elevation.csv'\n",
        ")\n",
        "\n",
        "fig = go.Figure(data=[go.Surface(z=z_data.values)])\n",
        "fig.update_traces(contours_z=dict(show=True, usecolormap=True,\n",
        "                                  highlightcolor=\"limegreen\", project_z=True))\n",
        "fig.update_layout(title='PBS Elevation', autosize=False,\n",
        "                  width=800, height=800,\n",
        "                  margin=dict(l=65, r=50, b=65, t=90))\n",
        "\n",
        "fig.show()"
      ]
    },
    {
      "attachments": {},
      "cell_type": "markdown",
      "metadata": {},
      "source": [
        "## 3. Dash y Jupyter-Dash"
      ]
    },
    {
      "attachments": {},
      "cell_type": "markdown",
      "metadata": {},
      "source": [
        "En clase el script de nuestro primer código en dash (`./my-apps/hello-dash.py`) se veía así:\n",
        "\n",
        "![hello-dash](https://i.imgur.com/xqA2PYE.png)\n",
        "\n",
        "En esta implementación de `jupyter-dash`, ahora es posible correr `dash`, ya no como un script, si no embebido en cuaderno de `jupyter-notebook`. En la siguiente celda se declaran los cambios y se mantienen comentadas las lineas de código que fueron sustituidas:"
      ]
    },
    {
      "cell_type": "code",
      "execution_count": 4,
      "metadata": {
        "colab": {
          "base_uri": "https://localhost:8080/",
          "height": 672
        },
        "id": "uRPuiHVMcxQa",
        "outputId": "f222de94-7068-4157-851c-132249de96ad"
      },
      "outputs": [
        {
          "name": "stderr",
          "output_type": "stream",
          "text": [
            "/var/folders/yj/b8l2qgqd3_n2z00mzxsy1snc0000gn/T/ipykernel_76383/1169103883.py:3: UserWarning:\n",
            "\n",
            "\n",
            "The dash_html_components package is deprecated. Please replace\n",
            "`import dash_html_components as html` with `from dash import html`\n",
            "\n"
          ]
        },
        {
          "data": {
            "text/html": [
              "\n",
              "        <iframe\n",
              "            width=\"100%\"\n",
              "            height=\"650\"\n",
              "            src=\"http://127.0.0.1:8050/\"\n",
              "            frameborder=\"0\"\n",
              "            allowfullscreen\n",
              "            \n",
              "        ></iframe>\n",
              "        "
            ],
            "text/plain": [
              "<IPython.lib.display.IFrame at 0x12603c400>"
            ]
          },
          "metadata": {},
          "output_type": "display_data"
        }
      ],
      "source": [
        "import dash\n",
        "from dash.dependencies import Input, Output\n",
        "import dash_html_components as html\n",
        "import dash_bootstrap_components as dbc\n",
        "from jupyter_dash import JupyterDash\n",
        "\n",
        "\n",
        "# New external_stylesheets\n",
        "external_stylesheets = [dbc.themes.BOOTSTRAP]\n",
        "\n",
        "# app = dash.Dash()\n",
        "app = JupyterDash(external_stylesheets=external_stylesheets)\n",
        "\n",
        "app.layout = html.Div('Hello Dash!')\n",
        "\n",
        "# New callback\n",
        "@app.callback(Output('out', 'children'), Input('tbl', 'active_cell'))\n",
        "def update_graphs(active_cell):\n",
        "  return str(active_cell)\n",
        "\n",
        "\n",
        "# if __name__ == '__main__':\n",
        "#     app.run_server()\n",
        "app.run_server(mode='inline')"
      ]
    },
    {
      "cell_type": "code",
      "execution_count": 5,
      "metadata": {
        "colab": {
          "base_uri": "https://localhost:8080/",
          "height": 845
        },
        "id": "UBerJhxdefee",
        "outputId": "203a3613-0493-42d1-9a44-74d17e13f137"
      },
      "outputs": [
        {
          "name": "stderr",
          "output_type": "stream",
          "text": [
            "/var/folders/yj/b8l2qgqd3_n2z00mzxsy1snc0000gn/T/ipykernel_76383/2562875877.py:3: UserWarning:\n",
            "\n",
            "\n",
            "The dash_core_components package is deprecated. Please replace\n",
            "`import dash_core_components as dcc` with `from dash import dcc`\n",
            "\n",
            "/Users/joefaver/anaconda3/envs/pbs/lib/python3.9/site-packages/jupyter_dash/jupyter_app.py:139: UserWarning:\n",
            "\n",
            "The 'environ['werkzeug.server.shutdown']' function is deprecated and will be removed in Werkzeug 2.1.\n",
            "\n"
          ]
        },
        {
          "data": {
            "text/html": [
              "\n",
              "        <iframe\n",
              "            width=\"100%\"\n",
              "            height=\"650\"\n",
              "            src=\"http://127.0.0.1:8050/\"\n",
              "            frameborder=\"0\"\n",
              "            allowfullscreen\n",
              "            \n",
              "        ></iframe>\n",
              "        "
            ],
            "text/plain": [
              "<IPython.lib.display.IFrame at 0x145c76130>"
            ]
          },
          "metadata": {},
          "output_type": "display_data"
        }
      ],
      "source": [
        "import dash\n",
        "from dash.dependencies import Input, Output\n",
        "import dash_core_components as dcc\n",
        "import dash_html_components as html\n",
        "from jupyter_dash import JupyterDash\n",
        "import pandas as pd\n",
        "import plotly.express as px\n",
        "\n",
        "\n",
        "external_stylesheets = ['https://codepen.io/chriddyp/pen/bWLwgP.css']\n",
        "\n",
        "# app = dash.Dash(__name__, external_stylesheets=external_stylesheets)\n",
        "app = JupyterDash(external_stylesheets=external_stylesheets)\n",
        "\n",
        "\n",
        "df = pd.read_csv(\n",
        "    'https://raw.githubusercontent.com/plotly/datasets/master/gapminderDataFiveYear.csv'\n",
        ")\n",
        "\n",
        "\n",
        "@app.callback(\n",
        "    Output('life-exp-vs-gdp', 'figure'),\n",
        "    Input('year-slider', 'value')\n",
        ")\n",
        "def update_figure(selected_year):\n",
        "    filterDf = df[df.year == selected_year]\n",
        "    fig = px.scatter(\n",
        "        filterDf, x=\"gdpPercap\", y=\"lifeExp\", size=\"pop\", color=\"continent\",\n",
        "        hover_name=\"country\", log_x=True, size_max=60\n",
        "    )\n",
        "\n",
        "    fig.update_layout(transition_duration=500)\n",
        "\n",
        "    return fig\n",
        "\n",
        "\n",
        "@app.callback(\n",
        "    Output('year-pop', 'figure'),\n",
        "    [dash.dependencies.Input('life-exp-vs-gdp', 'hoverData')]\n",
        ")\n",
        "def update_output_div(hoverData):\n",
        "    if not hoverData:\n",
        "        country = ''\n",
        "    else:\n",
        "        country = hoverData['points'][0]['hovertext']\n",
        "\n",
        "    filterDf = df[df.country == country]\n",
        "    fig = px.bar(filterDf, x='year', y='pop', title='Year Vs Population: {}'.format(country))\n",
        "    # return 'Output: {}'.format(hoverData['points'][0]['hovertext'])\n",
        "    return fig\n",
        "\n",
        "\n",
        "app.layout = html.Div([\n",
        "    dcc.Graph(id='life-exp-vs-gdp'),\n",
        "    dcc.Slider(\n",
        "        id='year-slider', min=df['year'].min(), value=df['year'].min(),\n",
        "        max=df['year'].max(),\n",
        "        marks={str(year): str(year) for year in df['year'].unique()},\n",
        "        step=None\n",
        "    ),\n",
        "    dcc.Graph(id='year-pop'),\n",
        "])\n",
        "\n",
        "# New callback\n",
        "@app.callback(Output('out', 'children'), Input('tbl', 'active_cell'))\n",
        "def update_graphs(active_cell):\n",
        "  return str(active_cell)\n",
        "\n",
        "\n",
        "# if __name__ == '__main__':\n",
        "#     app.run_server()\n",
        "app.run_server(mode='inline')\n"
      ]
    },
    {
      "cell_type": "code",
      "execution_count": 6,
      "metadata": {
        "colab": {
          "base_uri": "https://localhost:8080/",
          "height": 741
        },
        "id": "h3B5wCmEe3Yl",
        "outputId": "5d048728-cddc-4d2c-c46d-90f5ec5eef4b"
      },
      "outputs": [
        {
          "name": "stderr",
          "output_type": "stream",
          "text": [
            "/var/folders/yj/b8l2qgqd3_n2z00mzxsy1snc0000gn/T/ipykernel_76383/3335509757.py:4: UserWarning:\n",
            "\n",
            "\n",
            "The dash_table package is deprecated. Please replace\n",
            "`import dash_table` with `from dash import dash_table`\n",
            "\n",
            "Also, if you're using any of the table format helpers (e.g. Group), replace \n",
            "`from dash_table.Format import Group` with \n",
            "`from dash.dash_table.Format import Group`\n",
            "\n",
            "/Users/joefaver/anaconda3/envs/pbs/lib/python3.9/site-packages/jupyter_dash/jupyter_app.py:139: UserWarning:\n",
            "\n",
            "The 'environ['werkzeug.server.shutdown']' function is deprecated and will be removed in Werkzeug 2.1.\n",
            "\n"
          ]
        },
        {
          "data": {
            "text/html": [
              "\n",
              "        <iframe\n",
              "            width=\"100%\"\n",
              "            height=\"650\"\n",
              "            src=\"http://127.0.0.1:8050/\"\n",
              "            frameborder=\"0\"\n",
              "            allowfullscreen\n",
              "            \n",
              "        ></iframe>\n",
              "        "
            ],
            "text/plain": [
              "<IPython.lib.display.IFrame at 0x146815dc0>"
            ]
          },
          "metadata": {},
          "output_type": "display_data"
        }
      ],
      "source": [
        "import dash\n",
        "from dash import dcc, Input, Output\n",
        "from jupyter_dash import JupyterDash\n",
        "import dash_table as dt\n",
        "import pandas as pd\n",
        "import dash_bootstrap_components as dbc\n",
        "\n",
        "df = pd.read_csv('https://git.io/Juf1t')\n",
        "\n",
        "external_stylesheets = [dbc.themes.BOOTSTRAP]\n",
        "\n",
        "app = JupyterDash(external_stylesheets=external_stylesheets)\n",
        "\n",
        "app.layout = dbc.Container([\n",
        "    dbc.Label('Click a cell in the table:'),\n",
        "    dt.DataTable(\n",
        "        id='tbl', data=df.to_dict('records'),\n",
        "        columns=[{\"name\": i, \"id\": i} for i in df.columns],   \n",
        "    ),\n",
        "    dbc.Alert(\"Click the table\", id='out'),\n",
        "])\n",
        "\n",
        "@app.callback(Output('out', 'children'), Input('tbl', 'active_cell'))\n",
        "def update_graphs(active_cell):\n",
        "  return str(active_cell)\n",
        "\n",
        "app.run_server(mode='inline')"
      ]
    },
    {
      "cell_type": "code",
      "execution_count": null,
      "metadata": {
        "id": "Bq15eoBYfRuQ"
      },
      "outputs": [],
      "source": []
    }
  ],
  "metadata": {
    "colab": {
      "provenance": []
    },
    "kernelspec": {
      "display_name": "Python 3",
      "name": "python3"
    },
    "language_info": {
      "codemirror_mode": {
        "name": "ipython",
        "version": 3
      },
      "file_extension": ".py",
      "mimetype": "text/x-python",
      "name": "python",
      "nbconvert_exporter": "python",
      "pygments_lexer": "ipython3",
      "version": "3.9.13"
    }
  },
  "nbformat": 4,
  "nbformat_minor": 0
}
