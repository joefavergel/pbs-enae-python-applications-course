{
  "cells": [
    {
      "attachments": {},
      "cell_type": "markdown",
      "metadata": {
        "id": "h5GHuvTvf7hs"
      },
      "source": [
        "<img heigth=\"8\" src=\"https://i.imgur.com/BhG5KQ3.png\" alt=\"pbs-enae\">\n",
        "\n",
        "<h1 align=\"left\">Visualización interactiva de datos con Python</h1>\n",
        "\n",
        "<h2 align=\"left\"><i>Creating Dashboards for Business Applications</i></h2>\n",
        "\n",
        "<p align=\"left\">\n",
        "  <h3><a href=\"https://joefaver.dev\">Joseph F. Vergel-Becerra</a> | Aplicaciones de Python - Tools and Skill Courses</h3>\n",
        "  <br>\n",
        "  <b>Last updated:</b> <i>22/02/2023</i>\n",
        "  <br><br>\n",
        "  <!-- <a href=\"#tabla-de-contenido\">Tabla de contenido</a> • -->\n",
        "  <a href=\"#referencias\">Referencias</a> •\n",
        "  <a href=\"#contribuir\">Contribuir</a>\n",
        "  <!-- <a href=\"#agradecimientos\">Agradecimientos</a> -->\n",
        "  <br><br>\n",
        "</p>\n",
        "<table align=\"left\">\n",
        "  <td>\n",
        "      <a href=\"https://img.shields.io/badge/version-0.1.0-blue.svg?cacheSeconds=2592000\">\n",
        "        <img src=\"https://img.shields.io/badge/version-0.1.0-blue.svg?cacheSeconds=2592000\" alt=\"Version\" height=\"18\">\n",
        "      </a>\n",
        "  </td>\n",
        "  <td>\n",
        "    <a href=\"https://colab.research.google.com/github/joefavergel/pbs-enae-python-applications-course/blob/main/1-customer-segmentation-target marketing.ipynb\" target=\"_parent\"><img src=\"https://colab.research.google.com/assets/colab-badge.svg\" alt=\"Open In Colab\"/>\n",
        "      </a>\n",
        "  </td>\n",
        "  <td>\n",
        "    <a href=\"https://github.com/joefavergel/pbs-enae-python-applications-course\" target=\"_parent\"><img src=\"https://img.shields.io/github/forks/joefavergel/pbs-enae-ml-course?style=social\" alt=\"Fork\"/>\n",
        "      </a>\n",
        "  </td>\n",
        "</table>\n",
        "<br>\n",
        "<br>\n",
        "\n",
        "---\n",
        "\n",
        "El ***Data Storytelling\"*** es un enfoque de comunicación que combina técnicas narrativas con visualizaciones de datos para transmitir información de manera efectiva y atractiva. Su objetivo es facilitar la comprensión, retención e interpretación de información compleja, permitiendo a los receptores tomar decisiones informadas y basadas en datos. A través de las bibliotecas [plotly]() y [Dash]() es posible crear gráficos y aplicaciones web interactivas que te permitirán *contar historias sobre los datos*. Generar visualizaciones dinámicas de datos, personalizar estilos y diseño e integrar gráficos en aplicaciones web, le permite a las empresas tomar decisiones informadas basadas en el análisis de datos."
      ]
    },
    {
      "cell_type": "code",
      "execution_count": 1,
      "metadata": {
        "colab": {
          "base_uri": "https://localhost:8080/"
        },
        "id": "zSihQVfWVQ4K",
        "outputId": "ab2fdaae-8f98-46d2-bbfb-37554ceaf289"
      },
      "outputs": [
        {
          "name": "stdout",
          "output_type": "stream",
          "text": [
            "Found existing installation: Werkzeug 2.0.3\n",
            "Uninstalling Werkzeug-2.0.3:\n",
            "  Successfully uninstalled Werkzeug-2.0.3\n",
            "Looking in indexes: https://pypi.org/simple, https://us-python.pkg.dev/colab-wheels/public/simple/\n",
            "Collecting werkzeug==2.0.3\n",
            "  Using cached Werkzeug-2.0.3-py3-none-any.whl (289 kB)\n",
            "Installing collected packages: werkzeug\n",
            "Successfully installed werkzeug-2.0.3\n"
          ]
        }
      ],
      "source": [
        "!pip install --q dash==2.0.0 jupyter-dash==0.4.0 dash_bootstrap_components pandas;\n",
        "!pip uninstall -y werkzeug\n",
        "!pip install werkzeug==2.0.3"
      ]
    },
    {
      "cell_type": "code",
      "execution_count": 11,
      "metadata": {
        "colab": {
          "base_uri": "https://localhost:8080/",
          "height": 672
        },
        "id": "uRPuiHVMcxQa",
        "outputId": "f222de94-7068-4157-851c-132249de96ad"
      },
      "outputs": [
        {
          "data": {
            "application/javascript": "(async (port, path, width, height, cache, element) => {\n    if (!google.colab.kernel.accessAllowed && !cache) {\n      return;\n    }\n    element.appendChild(document.createTextNode(''));\n    const url = await google.colab.kernel.proxyPort(port, {cache});\n    const iframe = document.createElement('iframe');\n    iframe.src = new URL(path, url).toString();\n    iframe.height = height;\n    iframe.width = width;\n    iframe.style.border = 0;\n    iframe.allow = [\n        'accelerometer',\n        'autoplay',\n        'camera',\n        'clipboard-read',\n        'clipboard-write',\n        'gyroscope',\n        'magnetometer',\n        'microphone',\n        'serial',\n        'usb',\n        'xr-spatial-tracking',\n    ].join('; ');\n    element.appendChild(iframe);\n  })(8050, \"/\", \"100%\", 650, false, window.element)",
            "text/plain": [
              "<IPython.core.display.Javascript object>"
            ]
          },
          "metadata": {},
          "output_type": "display_data"
        }
      ],
      "source": [
        "import dash\n",
        "import dash_html_components as html\n",
        "\n",
        "\n",
        "# New external_stylesheets\n",
        "external_stylesheets = [dbc.themes.BOOTSTRAP]\n",
        "\n",
        "# app = dash.Dash()\n",
        "app = JupyterDash(external_stylesheets=external_stylesheets)\n",
        "\n",
        "app.layout = html.Div('Hello Dash!')\n",
        "\n",
        "# New callback\n",
        "@app.callback(Output('out', 'children'), Input('tbl', 'active_cell'))\n",
        "def update_graphs(active_cell):\n",
        "  return str(active_cell)\n",
        "\n",
        "\n",
        "# if __name__ == '__main__':\n",
        "#     app.run_server()\n",
        "app.run_server(mode='inline')"
      ]
    },
    {
      "cell_type": "code",
      "execution_count": 8,
      "metadata": {
        "colab": {
          "base_uri": "https://localhost:8080/",
          "height": 845
        },
        "id": "UBerJhxdefee",
        "outputId": "203a3613-0493-42d1-9a44-74d17e13f137"
      },
      "outputs": [
        {
          "name": "stderr",
          "output_type": "stream",
          "text": [
            "<ipython-input-8-c42b4ab88282>:3: UserWarning:\n",
            "\n",
            "\n",
            "The dash_core_components package is deprecated. Please replace\n",
            "`import dash_core_components as dcc` with `from dash import dcc`\n",
            "\n",
            "/usr/local/lib/python3.10/dist-packages/jupyter_dash/jupyter_app.py:139: UserWarning:\n",
            "\n",
            "The 'environ['werkzeug.server.shutdown']' function is deprecated and will be removed in Werkzeug 2.1.\n",
            "\n"
          ]
        },
        {
          "data": {
            "application/javascript": "(async (port, path, width, height, cache, element) => {\n    if (!google.colab.kernel.accessAllowed && !cache) {\n      return;\n    }\n    element.appendChild(document.createTextNode(''));\n    const url = await google.colab.kernel.proxyPort(port, {cache});\n    const iframe = document.createElement('iframe');\n    iframe.src = new URL(path, url).toString();\n    iframe.height = height;\n    iframe.width = width;\n    iframe.style.border = 0;\n    iframe.allow = [\n        'accelerometer',\n        'autoplay',\n        'camera',\n        'clipboard-read',\n        'clipboard-write',\n        'gyroscope',\n        'magnetometer',\n        'microphone',\n        'serial',\n        'usb',\n        'xr-spatial-tracking',\n    ].join('; ');\n    element.appendChild(iframe);\n  })(8050, \"/\", \"100%\", 650, false, window.element)",
            "text/plain": [
              "<IPython.core.display.Javascript object>"
            ]
          },
          "metadata": {},
          "output_type": "display_data"
        }
      ],
      "source": [
        "from dash.dependencies import Input, Output\n",
        "import dash\n",
        "import dash_core_components as dcc\n",
        "import dash_html_components as html\n",
        "import pandas as pd\n",
        "import plotly.express as px\n",
        "\n",
        "\n",
        "external_stylesheets = ['https://codepen.io/chriddyp/pen/bWLwgP.css']\n",
        "\n",
        "# app = dash.Dash(__name__, external_stylesheets=external_stylesheets)\n",
        "app = JupyterDash(external_stylesheets=external_stylesheets)\n",
        "\n",
        "\n",
        "df = pd.read_csv(\n",
        "    'https://raw.githubusercontent.com/plotly/datasets/master/gapminderDataFiveYear.csv'\n",
        ")\n",
        "\n",
        "\n",
        "@app.callback(\n",
        "    Output('life-exp-vs-gdp', 'figure'),\n",
        "    Input('year-slider', 'value')\n",
        ")\n",
        "def update_figure(selected_year):\n",
        "    filterDf = df[df.year == selected_year]\n",
        "    fig = px.scatter(\n",
        "        filterDf, x=\"gdpPercap\", y=\"lifeExp\", size=\"pop\", color=\"continent\",\n",
        "        hover_name=\"country\", log_x=True, size_max=60\n",
        "    )\n",
        "\n",
        "    fig.update_layout(transition_duration=500)\n",
        "\n",
        "    return fig\n",
        "\n",
        "\n",
        "@app.callback(\n",
        "    Output('year-pop', 'figure'),\n",
        "    [dash.dependencies.Input('life-exp-vs-gdp', 'hoverData')]\n",
        ")\n",
        "def update_output_div(hoverData):\n",
        "    if not hoverData:\n",
        "        country = ''\n",
        "    else:\n",
        "        country = hoverData['points'][0]['hovertext']\n",
        "\n",
        "    filterDf = df[df.country == country]\n",
        "    fig = px.bar(filterDf, x='year', y='pop', title='Year Vs Population: {}'.format(country))\n",
        "    # return 'Output: {}'.format(hoverData['points'][0]['hovertext'])\n",
        "    return fig\n",
        "\n",
        "\n",
        "app.layout = html.Div([\n",
        "    dcc.Graph(id='life-exp-vs-gdp'),\n",
        "    dcc.Slider(\n",
        "        id='year-slider', min=df['year'].min(), value=df['year'].min(),\n",
        "        max=df['year'].max(),\n",
        "        marks={str(year): str(year) for year in df['year'].unique()},\n",
        "        step=None\n",
        "    ),\n",
        "    dcc.Graph(id='year-pop'),\n",
        "])\n",
        "\n",
        "# New callback\n",
        "@app.callback(Output('out', 'children'), Input('tbl', 'active_cell'))\n",
        "def update_graphs(active_cell):\n",
        "  return str(active_cell)\n",
        "\n",
        "\n",
        "# if __name__ == '__main__':\n",
        "#     app.run_server()\n",
        "app.run_server(mode='inline')\n"
      ]
    },
    {
      "cell_type": "code",
      "execution_count": 9,
      "metadata": {
        "colab": {
          "base_uri": "https://localhost:8080/",
          "height": 741
        },
        "id": "h3B5wCmEe3Yl",
        "outputId": "5d048728-cddc-4d2c-c46d-90f5ec5eef4b"
      },
      "outputs": [
        {
          "name": "stderr",
          "output_type": "stream",
          "text": [
            "/usr/local/lib/python3.10/dist-packages/jupyter_dash/jupyter_app.py:139: UserWarning:\n",
            "\n",
            "The 'environ['werkzeug.server.shutdown']' function is deprecated and will be removed in Werkzeug 2.1.\n",
            "\n"
          ]
        },
        {
          "data": {
            "application/javascript": "(async (port, path, width, height, cache, element) => {\n    if (!google.colab.kernel.accessAllowed && !cache) {\n      return;\n    }\n    element.appendChild(document.createTextNode(''));\n    const url = await google.colab.kernel.proxyPort(port, {cache});\n    const iframe = document.createElement('iframe');\n    iframe.src = new URL(path, url).toString();\n    iframe.height = height;\n    iframe.width = width;\n    iframe.style.border = 0;\n    iframe.allow = [\n        'accelerometer',\n        'autoplay',\n        'camera',\n        'clipboard-read',\n        'clipboard-write',\n        'gyroscope',\n        'magnetometer',\n        'microphone',\n        'serial',\n        'usb',\n        'xr-spatial-tracking',\n    ].join('; ');\n    element.appendChild(iframe);\n  })(8050, \"/\", \"100%\", 650, false, window.element)",
            "text/plain": [
              "<IPython.core.display.Javascript object>"
            ]
          },
          "metadata": {},
          "output_type": "display_data"
        }
      ],
      "source": [
        "import dash\n",
        "from dash import dcc, Input, Output\n",
        "from jupyter_dash import JupyterDash\n",
        "import dash_table as dt\n",
        "import pandas as pd\n",
        "import dash_bootstrap_components as dbc\n",
        "\n",
        "df = pd.read_csv('https://git.io/Juf1t')\n",
        "\n",
        "external_stylesheets = [dbc.themes.BOOTSTRAP]\n",
        "\n",
        "app = JupyterDash(external_stylesheets=external_stylesheets)\n",
        "\n",
        "app.layout = dbc.Container([\n",
        "    dbc.Label('Click a cell in the table:'),\n",
        "    dt.DataTable(\n",
        "        id='tbl', data=df.to_dict('records'),\n",
        "        columns=[{\"name\": i, \"id\": i} for i in df.columns],   \n",
        "    ),\n",
        "    dbc.Alert(\"Click the table\", id='out'),\n",
        "])\n",
        "\n",
        "@app.callback(Output('out', 'children'), Input('tbl', 'active_cell'))\n",
        "def update_graphs(active_cell):\n",
        "  return str(active_cell)\n",
        "\n",
        "app.run_server(mode='inline')"
      ]
    },
    {
      "cell_type": "code",
      "execution_count": null,
      "metadata": {
        "id": "Bq15eoBYfRuQ"
      },
      "outputs": [],
      "source": []
    }
  ],
  "metadata": {
    "colab": {
      "provenance": []
    },
    "kernelspec": {
      "display_name": "Python 3",
      "name": "python3"
    },
    "language_info": {
      "name": "python",
      "version": "3.9.13"
    }
  },
  "nbformat": 4,
  "nbformat_minor": 0
}
