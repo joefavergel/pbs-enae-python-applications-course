{
 "cells": [
  {
   "cell_type": "markdown",
   "metadata": {
    "id": "h5GHuvTvf7hs"
   },
   "source": [
    "<img heigth=\"8\" src=\"https://i.imgur.com/BhG5KQ3.png\" alt=\"pbs-enae\">\n",
    "\n",
    "<h1 align=\"left\">Visualización interactiva de datos con Python</h1>\n",
    "\n",
    "<h2 align=\"left\"><i>Creating Dashboards for Business Applications</i></h2>\n",
    "\n",
    "<p align=\"left\">\n",
    "  <h3><a href=\"https://joefaver.dev\">Joseph F. Vergel-Becerra</a> | Aplicaciones de Python - Tools and Skill Courses</h3>\n",
    "  <br>\n",
    "  <b>Last updated:</b> <i>03/12/2023</i>\n",
    "  <br><br>\n",
    "  <!-- <a href=\"#tabla-de-contenido\">Tabla de contenido</a> • -->\n",
    "  <a href=\"#referencias\">Referencias</a> •\n",
    "  <a href=\"#contribuir\">Contribuir</a>\n",
    "  <!-- <a href=\"#agradecimientos\">Agradecimientos</a> -->\n",
    "  <br><br>\n",
    "</p>\n",
    "<table align=\"left\">\n",
    "  <td>\n",
    "      <a href=\"https://img.shields.io/badge/version-0.1.0-blue.svg?cacheSeconds=2592000\">\n",
    "        <img src=\"https://img.shields.io/badge/version-0.1.0-blue.svg?cacheSeconds=2592000\" alt=\"Version\" height=\"18\">\n",
    "      </a>\n",
    "  </td>\n",
    "  <td>\n",
    "    <a href=\"https://colab.research.google.com/github/joefavergel/pbs-enae-python-applications-course/blob/main/6-creating-dashboards-for-business-applications/6-[UPDATED-VERSIONS]-creating_dashboards_for_business_applications.ipynb\" target=\"_parent\"><img src=\"https://colab.research.google.com/assets/colab-badge.svg\" alt=\"Open In Colab\"/>\n",
    "      </a>\n",
    "  </td>\n",
    "  <td>\n",
    "    <a href=\"https://github.com/joefavergel/pbs-enae-python-applications-course\" target=\"_parent\"><img src=\"https://img.shields.io/github/forks/joefavergel/pbs-enae-ml-course?style=social\" alt=\"Fork\"/>\n",
    "      </a>\n",
    "  </td>\n",
    "</table>\n",
    "<br>\n",
    "<br>\n",
    "\n",
    "---\n",
    "\n",
    "El ***Data Storytelling\"*** es un enfoque de comunicación que combina técnicas narrativas con visualizaciones de datos para transmitir información de manera efectiva y atractiva. Su objetivo es facilitar la comprensión, retención e interpretación de información compleja, permitiendo a los receptores tomar decisiones informadas y basadas en datos. A través de las bibliotecas [plotly]() y [Dash]() es posible crear gráficos y aplicaciones web interactivas que te permitirán *contar historias sobre los datos*. Generar visualizaciones dinámicas de datos, personalizar estilos y diseño e integrar gráficos en aplicaciones web, le permite a las empresas tomar decisiones informadas basadas en el análisis de datos."
   ]
  },
  {
   "cell_type": "markdown",
   "metadata": {
    "id": "t85Opbz2xTgu"
   },
   "source": [
    "## 1. Preludio"
   ]
  },
  {
   "cell_type": "code",
   "execution_count": 1,
   "metadata": {
    "colab": {
     "base_uri": "https://localhost:8080/"
    },
    "id": "zSihQVfWVQ4K",
    "outputId": "7d1273f9-3398-4ea3-dcdf-20f26e5729b7"
   },
   "outputs": [
    {
     "name": "stdout",
     "output_type": "stream",
     "text": [
      "Found existing installation: Flask 2.0.0\n",
      "Uninstalling Flask-2.0.0:\n",
      "  Successfully uninstalled Flask-2.0.0\n",
      "Collecting flask==2.0.0\n",
      "  Using cached Flask-2.0.0-py3-none-any.whl (93 kB)\n",
      "Requirement already satisfied: Werkzeug>=2.0 in /usr/local/lib/python3.10/dist-packages (from flask==2.0.0) (2.0.3)\n",
      "Requirement already satisfied: Jinja2>=3.0 in /usr/local/lib/python3.10/dist-packages (from flask==2.0.0) (3.1.2)\n",
      "Requirement already satisfied: itsdangerous>=2.0 in /usr/local/lib/python3.10/dist-packages (from flask==2.0.0) (2.1.2)\n",
      "Requirement already satisfied: click>=7.1.2 in /usr/local/lib/python3.10/dist-packages (from flask==2.0.0) (8.1.7)\n",
      "Requirement already satisfied: MarkupSafe>=2.0 in /usr/local/lib/python3.10/dist-packages (from Jinja2>=3.0->flask==2.0.0) (2.1.3)\n",
      "Installing collected packages: flask\n",
      "Successfully installed flask-2.0.0\n",
      "Found existing installation: Werkzeug 2.0.3\n",
      "Uninstalling Werkzeug-2.0.3:\n",
      "  Successfully uninstalled Werkzeug-2.0.3\n",
      "Collecting werkzeug==2.0.3\n",
      "  Using cached Werkzeug-2.0.3-py3-none-any.whl (289 kB)\n",
      "Installing collected packages: werkzeug\n",
      "Successfully installed werkzeug-2.0.3\n"
     ]
    }
   ],
   "source": [
    "!pip install --q dash==2.12.2 dash_bootstrap_components pandas"
   ]
  },
  {
   "cell_type": "markdown",
   "metadata": {
    "id": "IcdH4NbkxTgw"
   },
   "source": [
    "## 2. Plotly y Dash"
   ]
  },
  {
   "cell_type": "markdown",
   "metadata": {
    "id": "b4yCoQ7pxTgz"
   },
   "source": [
    "Al correr por primera vez este *notebook*, si la celda le muestra la siguiente image:\n",
    "\n",
    "![google-403](https://i.stack.imgur.com/TuHkS.png)\n",
    "\n",
    "debe permitir en su navegador (Chrome) las cookies de terceros (*third-party cookies*). Para esto, vaya a las opciones de configuración (*Settings*) de su navegador:\n",
    "\n",
    "![settings](https://i.imgur.com/oHptnv7.png)\n",
    "\n",
    "y en la barra de búsqueda escriba \"third-party cookies\" (sin comillas) y deberán salir las siguientes opciones:\n",
    "\n",
    "![third-party-cookies](https://i.imgur.com/AiNI0f2.png)\n",
    "\n",
    "ingresa a \"\" y a contiuacion habilita la opcion de \"Permitir todas (Allow all)\"\n",
    "\n",
    "![allow-all-cookies](https://i.imgur.com/Nk8JgzV.png)\n",
    "\n",
    "finalmente, vuelva al cuaderno de Colab, reinicie la instancia y vuelva a correr el código y ya deberia visualizar los *dashboards*:\n",
    "\n",
    "![dashboard-in-colab](https://i.imgur.com/ZGr2H9O.png)"
   ]
  },
  {
   "cell_type": "code",
   "execution_count": null,
   "metadata": {},
   "outputs": [],
   "source": [
    "import dash\n",
    "from dash.dependencies import Input, Output\n",
    "from dash import dcc\n",
    "from dash import html\n",
    "import pandas as pd\n",
    "import plotly.express as px\n",
    "\n",
    "\n",
    "external_stylesheets = ['https://codepen.io/chriddyp/pen/bWLwgP.css']\n",
    "\n",
    "app = dash.Dash(__name__, external_stylesheets=external_stylesheets)\n",
    "\n",
    "\n",
    "df = pd.read_csv(\n",
    "    'https://raw.githubusercontent.com/plotly/datasets/master/gapminderDataFiveYear.csv'\n",
    ")\n",
    "\n",
    "\n",
    "@app.callback(\n",
    "    Output('life-exp-vs-gdp', 'figure'),\n",
    "    Input('year-slider', 'value')\n",
    ")\n",
    "def update_figure(selected_year):\n",
    "    filterDf = df[df.year == selected_year]\n",
    "    fig = px.scatter(\n",
    "        filterDf, x=\"gdpPercap\", y=\"lifeExp\", size=\"pop\", color=\"continent\",\n",
    "        hover_name=\"country\", log_x=True, size_max=60\n",
    "    )\n",
    "\n",
    "    fig.update_layout(transition_duration=500)\n",
    "\n",
    "    return fig\n",
    "\n",
    "\n",
    "@app.callback(\n",
    "    Output('year-pop', 'figure'),\n",
    "    [dash.dependencies.Input('life-exp-vs-gdp', 'hoverData')]\n",
    ")\n",
    "def update_output_div(hoverData):\n",
    "    if not hoverData:\n",
    "        country = ''\n",
    "    else:\n",
    "        country = hoverData['points'][0]['hovertext']\n",
    "\n",
    "    filterDf = df[df.country == country]\n",
    "    fig = px.bar(filterDf, x='year', y='pop', title='Year Vs Population: {}'.format(country))\n",
    "    return fig\n",
    "\n",
    "\n",
    "app.layout = html.Div([\n",
    "    dcc.Graph(id='life-exp-vs-gdp'),\n",
    "    dcc.Slider(\n",
    "        id='year-slider', min=df['year'].min(), value=df['year'].min(),\n",
    "        max=df['year'].max(),\n",
    "        marks={str(year): str(year) for year in df['year'].unique()},\n",
    "        step=None\n",
    "    ),\n",
    "    dcc.Graph(id='year-pop'),\n",
    "])\n",
    "\n",
    "\n",
    "if __name__ == '__main__':\n",
    "    app.run(debug=True, jupyter_mode=\"external\")"
   ]
  },
  {
   "cell_type": "markdown",
   "metadata": {
    "id": "7v4WPk9L2FHu"
   },
   "source": [
    "### 6. Caso Práctico: \"Visualización interactiva de datos con Python\"\n",
    "\n",
    "**Objetivo:** Crear un tablero de control (dashboard) interactivo para visualizar las tendencias de ventas de automóviles.\n",
    "\n",
    "**Dataset:** Usaremos el conjunto de datos de ventas de automóviles. Puedes descargarlo directamente usando el siguiente código:\n",
    "\n",
    "```python\n",
    "import pandas as pd\n",
    "\n",
    "url = \"https://raw.githubusercontent.com/mwaskom/seaborn-data/master/mpg.csv\"\n",
    "car_sales_data = pd.read_csv(url)\n",
    "print(car_sales_data.head())\n",
    "```\n",
    "\n",
    "**Tareas:**\n",
    "\n",
    "1. **Cargar el Conjunto de Datos:** Utiliza el snippet proporcionado para descargar y cargar los datos en un DataFrame de Pandas.\n",
    "\n",
    "2. **Crear un Dashboard Básico con Dash:**\n",
    "   - Instala Dash y otras dependencias necesarias.\n",
    "   - Inicia una aplicación Dash.\n",
    "   - Añade un layout a tu aplicación que incluya un gráfico de barras mostrando el número de automóviles vendidos por año de fabricación.\n",
    "   - Utiliza Plotly para crear un gráfico de barras que muestre el recuento de automóviles (`model_year`).\n",
    "\n",
    "3. **Ejecutar el Dashboard:**\n",
    "   - Ejecuta tu aplicación localmente para ver el dashboard.\n",
    "   - Asegúrate de que el gráfico muestre claramente la distribución de automóviles por año de fabricación."
   ]
  },
  {
   "cell_type": "code",
   "execution_count": null,
   "metadata": {},
   "outputs": [],
   "source": []
  }
 ],
 "metadata": {
  "colab": {
   "provenance": []
  },
  "kernelspec": {
   "display_name": "pbs",
   "language": "python",
   "name": "pbs"
  },
  "language_info": {
   "codemirror_mode": {
    "name": "ipython",
    "version": 3
   },
   "file_extension": ".py",
   "mimetype": "text/x-python",
   "name": "python",
   "nbconvert_exporter": "python",
   "pygments_lexer": "ipython3",
   "version": "3.9.13"
  }
 },
 "nbformat": 4,
 "nbformat_minor": 1
}
