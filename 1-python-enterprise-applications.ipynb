{
 "cells": [
  {
   "attachments": {},
   "cell_type": "markdown",
   "id": "c905ef90",
   "metadata": {},
   "source": [
    "<img heigth=\"8\" src=\"https://i.imgur.com/BhG5KQ3.png\" alt=\"pbs-enae\">\n",
    "\n",
    "<h1 align=\"left\">Aplicaciones empresariales de Python</h1>\n",
    "<h2 align=\"left\"><i>Panorama general</i></h2>\n",
    "\n",
    "<p align=\"left\">\n",
    "  <h3><a href=\"https://joefaver.dev\">Joseph F. Vergel-Becerra</a> | Aplicaciones de Python - Tools and Skill Courses</h3>\n",
    "  <br>\n",
    "  <b>Last updated:</b> <i>01/11/2023</i>\n",
    "  <br><br>\n",
    "  <a href=\"#referencias\">Referencias</a> •\n",
    "  <a href=\"#contribuir\">Contribuir</a>\n",
    "  <br><br>\n",
    "</p>\n",
    "<table align=\"left\">\n",
    "  <td>\n",
    "      <a href=\"https://img.shields.io/badge/version-0.1.0-blue.svg?cacheSeconds=2592000\">\n",
    "        <img src=\"https://img.shields.io/badge/version-0.1.0-blue.svg?cacheSeconds=2592000\" alt=\"Version\" height=\"18\">\n",
    "      </a>\n",
    "  </td>\n",
    "  <td>\n",
    "    <a href=\"https://colab.research.google.com/github/joefavergel/pbs-enae-python-applications-course/blob/main/2-retail-store-item-detection-preparation.ipynb\" target=\"_parent\"><img src=\"https://colab.research.google.com/assets/colab-badge.svg\" alt=\"Open In Colab\"/>\n",
    "      </a>\n",
    "  </td>\n",
    "  <td>\n",
    "    <a href=\"https://github.com/joefavergel/pbs-enae-python-applications-course\" target=\"_parent\"><img src=\"https://img.shields.io/github/forks/joefavergel/pbs-enae-python-beginners-course?style=social\" alt=\"Fork\"/>\n",
    "    </a>\n",
    "  </td>\n",
    "</table>\n",
    "<br>\n",
    "<br>\n",
    "\n",
    "---\n",
    "\n",
    "1er caso practico de la asignatura \"Aplicaciones de Python\"."
   ]
  },
  {
   "cell_type": "markdown",
   "metadata": {},
   "source": [
    "## 1. Ejercicio caso práctico: \"Aplicaciones empresariales de Python\"\n",
    "\n",
    "### Diseño Conceptual de una Aplicación de Negocio\n",
    "\n",
    "**Objetivo**\n",
    "Desarrollar la propuesta conceptual de una aplicación empresarial en Python que resuelva un problema específico en un sector industrial o empresa seleccionada.\n",
    "\n",
    "**Instrucciones**\n",
    "1. **Selección del Sector/Empresa y Problema:**\n",
    "   - Identificar un sector industrial o una compañía específica.\n",
    "   - Definir un problema concreto que pueda ser resuelto a través de una aplicación de negocio.\n",
    "\n",
    "2. **Propuesta de Valor**\n",
    "   - Explicar cómo la aplicación de negocio resolverá el problema y cuál será su impacto (reducción de costos, incremento de eficiencia, mejora en la toma de decisiones, etc.).\n",
    "\n",
    "3. **Investigación Tecnológica**\n",
    "   - Investigar qué tecnologías de Python podrían ser utilizadas para desarrollar la aplicación (frameworks, bibliotecas, APIs, etc.).\n",
    "   - Evaluar si estas tecnologías son compatibles con Python y si existen casos de éxito similares en el mercado.\n",
    "\n",
    "4. **Esquema del Diseño**\n",
    "   - Crear un esquema conceptual de la aplicación, incluyendo los componentes principales, el flujo de datos, la interfaz de usuario, donde se alojará la aplicación, a que usarios estara destinada y como funcionará.\n",
    "\n",
    "5. **Estimación de Recursos Necesarios**\n",
    "   - Estimar los recursos materiales y humanos necesarios para desarrollar la aplicación.\n",
    "   - Identificar las dependencias tecnológicas (datos, APIs, bases de datos, conexiones, etc) y dependencias de otras divisiones, requeridas para que la aplicación funcione adecuadamente.\n",
    "\n",
    "**Entregable**\n",
    "- Un documento con la propuesta de la aplicación, incluyendo la problemática, el diseño conceptual, las tecnologías seleccionadas y una idea del equipo necesario para desarrollar la solución.\n",
    "- El documento no puede superar más de 3 páginas.\n",
    "- Sean concisos y directos.\n",
    "- Tengan en cuenta que están vendiendo el proyecto y es el *c-level* de la compañía quienes aprueban la viabilidad de la propuesta.\n",
    "- **Bonus**: Entre más utilicen los conocimientos aprendidos en programación y Python para la propuesta, mejor será la calificación. "
   ]
  }
 ],
 "metadata": {
  "interpreter": {
   "hash": "6d23b6ce06cef9a43c42598a33140bfd5d2a5cd66dc37a3339483c8b5d0164e0"
  },
  "kernelspec": {
   "display_name": "Python 3 (ipykernel)",
   "language": "python",
   "name": "python3"
  },
  "language_info": {
   "codemirror_mode": {
    "name": "ipython",
    "version": 3
   },
   "file_extension": ".py",
   "mimetype": "text/x-python",
   "name": "python",
   "nbconvert_exporter": "python",
   "pygments_lexer": "ipython3",
   "version": "3.9.13"
  }
 },
 "nbformat": 4,
 "nbformat_minor": 5
}
