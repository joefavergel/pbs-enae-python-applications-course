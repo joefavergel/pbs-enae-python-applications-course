{
 "cells": [
  {
   "attachments": {},
   "cell_type": "markdown",
   "metadata": {
    "id": "CVGkG4Qqc8Kb"
   },
   "source": [
    "<img heigth=\"8\" src=\"https://i.imgur.com/BhG5KQ3.png\" alt=\"pbs-enae\">\n",
    "\n",
    "<h1 align=\"left\"><i>Web scraping</i> para el análisis de la competencia empresarial</h1>\n",
    "<h2 align=\"left\"><i>Introduction to Web Scraping with BeautifulSoup</i></h2>\n",
    "\n",
    "<p align=\"left\">\n",
    "  <h3><a href=\"https://joefaver.dev\">Joseph F. Vergel-Becerra</a> | Aplicaciones de Python - Tools and Skill Courses</h3>\n",
    "  <br>\n",
    "  <b>Last updated:</b> <i>08/04/2023</i>\n",
    "  <br><br>\n",
    "  <a href=\"#referencias\">Referencias</a> •\n",
    "  <a href=\"#contribuir\">Contribuir</a>\n",
    "  <br><br>\n",
    "</p>\n",
    "<table align=\"left\">\n",
    "  <td>\n",
    "      <a href=\"https://img.shields.io/badge/version-0.1.0-blue.svg?cacheSeconds=2592000\">\n",
    "        <img src=\"https://img.shields.io/badge/version-0.1.0-blue.svg?cacheSeconds=2592000\" alt=\"Version\" height=\"18\">\n",
    "      </a>\n",
    "  </td>\n",
    "  <td>\n",
    "    <a href=\"https://colab.research.google.com/github/joefavergel/pbs-enae-python-applications-course/blob/main/3-introduction-to-web-scraping-with-beautifulsoup.ipynb\" target=\"_parent\"><img src=\"https://colab.research.google.com/assets/colab-badge.svg\" alt=\"Open In Colab\"/>\n",
    "      </a>\n",
    "  </td>\n",
    "  <td>\n",
    "    <a href=\"https://github.com/joefavergel/pbs-enae-python-applications-course\" target=\"_parent\"><img src=\"https://img.shields.io/github/forks/joefavergel/pbs-enae-python-beginners-course?style=social\" alt=\"Fork\"/>\n",
    "    </a>\n",
    "  </td>\n",
    "</table>\n",
    "<br>\n",
    "<br>\n",
    "\n",
    "---\n",
    "\n",
    "En este tutorial de *web scraping en Python*, aprenderemos cómo extraer información de una página de [IMDb](http://www.imdb.com) utilizando la biblioteca `BeautifulSoup`. El objetivo es raspar datos de películas, procesar el código HTML y transformarlo en datos tabulares para un análisis más detallado.\n",
    "\n",
    "1. Instalación y configuración: Para comenzar, instale las bibliotecas necesarias, como '`BeautifulSoup`4', 'requests' y 'pandas', utilizando pip o conda.\n",
    "\n",
    "2. Realizar una solicitud HTTP: Importe la biblioteca 'requests' y envíe una solicitud GET a la URL objetivo de IMDb. Asegúrese de que la solicitud sea exitosa y almacene el contenido en una variable.\n",
    "\n",
    "3. Crear objeto `BeautifulSoup`: Importe '`BeautifulSoup`' de 'bs4' y cree un objeto con el contenido de la página, utilizando el analizador 'html.parser'.\n",
    "\n",
    "4. Extracción de datos: Utilice selectores CSS y métodos de `BeautifulSoup`, como 'find' y 'find_all', para localizar y extraer información relevante, como el título, la fecha de lanzamiento, la calificación y otros detalles de las películas.\n",
    "\n",
    "5. Creación de un DataFrame: Importe 'pandas' y cree un DataFrame vacío con las columnas deseadas. Itere sobre los elementos extraídos y almacene la información en el DataFrame.\n",
    "\n",
    "6. Limpieza y preprocesamiento: Realice la limpieza de datos necesaria para eliminar caracteres no deseados y formatear adecuadamente los datos, como convertir las calificaciones en números decimales y las fechas en objetos datetime.\n",
    "\n",
    "7. Análisis y exportación: Ahora que tiene un DataFrame limpio y bien estructurado, puede realizar análisis adicionales, visualizaciones o exportar los datos a un archivo CSV o Excel.\n",
    "\n",
    "Siguiendo estos pasos, podrá raspar y procesar datos de IMDb utilizando `BeautifulSoup` en Python, y transformarlos en datos tabulares para análisis y uso en proyectos futuros.\n",
    "\n",
    "\n",
    "\n",
    "\n"
   ]
  },
  {
   "attachments": {},
   "cell_type": "markdown",
   "metadata": {},
   "source": [
    "### Primero visualicemos la [pagina](http://www.imdb.com/search/title?release_date=2017&sort=num_votes,desc&page=1) a *scrapear*."
   ]
  },
  {
   "cell_type": "code",
   "execution_count": 1,
   "metadata": {
    "colab": {
     "base_uri": "https://localhost:8080/"
    },
    "id": "nPFn9VCjCPJ3",
    "outputId": "7f3adc57-ff8e-46bc-af5d-58906c916efd"
   },
   "outputs": [
    {
     "name": "stdout",
     "output_type": "stream",
     "text": [
      "\n",
      "\n",
      "<!DOCTYPE html>\n",
      "<html\n",
      "    xmlns:og=\"http://ogp.me/ns#\"\n",
      "    xmlns:fb=\"http://www.facebook.com/2008/fbml\">\n",
      "    <head>\n",
      "         \n",
      "\n",
      "        <meta charset=\"utf-8\">\n",
      "\n",
      "\n",
      "\n",
      "\n",
      "        <script type=\"text/javascript\">var IMDbTimer={starttime: new Date().getTime(),pt:'java'};</script>\n",
      "\n",
      "<script>\n",
      "    if (typeof uet == 'function') {\n",
      "      uet(\"bb\", \"LoadTitle\", {wb: 1});\n",
      "    }\n",
      "</script>\n",
      "  <script>(function(t){ (t.events = t.events || {})[\"csm_head_pre_title\"] = new Date().getTime(); })(IMDbTimer);</script>\n",
      "      \n"
     ]
    }
   ],
   "source": [
    "from requests import get\n",
    "\n",
    "url = 'http://www.imdb.com/search/title?release_date=2017&sort=num_votes,desc&page=1'\n",
    "response = get(url)\n",
    "print(response.text[:500])"
   ]
  },
  {
   "cell_type": "code",
   "execution_count": 2,
   "metadata": {},
   "outputs": [
    {
     "data": {
      "text/plain": [
       "['__attrs__',\n",
       " '__bool__',\n",
       " '__class__',\n",
       " '__delattr__',\n",
       " '__dict__',\n",
       " '__dir__',\n",
       " '__doc__',\n",
       " '__enter__',\n",
       " '__eq__',\n",
       " '__exit__',\n",
       " '__format__',\n",
       " '__ge__',\n",
       " '__getattribute__',\n",
       " '__getstate__',\n",
       " '__gt__',\n",
       " '__hash__',\n",
       " '__init__',\n",
       " '__init_subclass__',\n",
       " '__iter__',\n",
       " '__le__',\n",
       " '__lt__',\n",
       " '__module__',\n",
       " '__ne__',\n",
       " '__new__',\n",
       " '__nonzero__',\n",
       " '__reduce__',\n",
       " '__reduce_ex__',\n",
       " '__repr__',\n",
       " '__setattr__',\n",
       " '__setstate__',\n",
       " '__sizeof__',\n",
       " '__str__',\n",
       " '__subclasshook__',\n",
       " '__weakref__',\n",
       " '_content',\n",
       " '_content_consumed',\n",
       " '_next',\n",
       " 'apparent_encoding',\n",
       " 'close',\n",
       " 'connection',\n",
       " 'content',\n",
       " 'cookies',\n",
       " 'elapsed',\n",
       " 'encoding',\n",
       " 'headers',\n",
       " 'history',\n",
       " 'is_permanent_redirect',\n",
       " 'is_redirect',\n",
       " 'iter_content',\n",
       " 'iter_lines',\n",
       " 'json',\n",
       " 'links',\n",
       " 'next',\n",
       " 'ok',\n",
       " 'raise_for_status',\n",
       " 'raw',\n",
       " 'reason',\n",
       " 'request',\n",
       " 'status_code',\n",
       " 'text',\n",
       " 'url']"
      ]
     },
     "execution_count": 2,
     "metadata": {},
     "output_type": "execute_result"
    }
   ],
   "source": [
    "dir(response)"
   ]
  },
  {
   "cell_type": "code",
   "execution_count": 3,
   "metadata": {},
   "outputs": [
    {
     "data": {
      "text/plain": [
       "{}"
      ]
     },
     "execution_count": 3,
     "metadata": {},
     "output_type": "execute_result"
    }
   ],
   "source": [
    "response.links"
   ]
  },
  {
   "cell_type": "code",
   "execution_count": 4,
   "metadata": {
    "colab": {
     "base_uri": "https://localhost:8080/"
    },
    "id": "0jlYZaxLCVKb",
    "outputId": "8848d5c4-b73a-4ec6-98d1-0bc459ac4aa4"
   },
   "outputs": [
    {
     "data": {
      "text/plain": [
       "bs4.BeautifulSoup"
      ]
     },
     "execution_count": 4,
     "metadata": {},
     "output_type": "execute_result"
    }
   ],
   "source": [
    "from bs4 import BeautifulSoup\n",
    "\n",
    "\n",
    "html_soup = BeautifulSoup(response.text, 'html.parser')\n",
    "type(html_soup)"
   ]
  },
  {
   "cell_type": "code",
   "execution_count": 5,
   "metadata": {
    "colab": {
     "base_uri": "https://localhost:8080/"
    },
    "id": "vMFfoncKvVum",
    "outputId": "d669c5ef-83a4-4014-e401-4c78aa30693a"
   },
   "outputs": [
    {
     "name": "stdout",
     "output_type": "stream",
     "text": [
      "<class 'bs4.element.ResultSet'>\n",
      "50\n"
     ]
    }
   ],
   "source": [
    "movie_containers = html_soup.find_all('div', class_ = 'lister-item mode-advanced')\n",
    "print(type(movie_containers))\n",
    "print(len(movie_containers))"
   ]
  },
  {
   "cell_type": "code",
   "execution_count": 6,
   "metadata": {
    "id": "ECIJJ5u4vc7D"
   },
   "outputs": [],
   "source": [
    "first_movie = movie_containers[0]"
   ]
  },
  {
   "cell_type": "code",
   "execution_count": 7,
   "metadata": {
    "colab": {
     "base_uri": "https://localhost:8080/"
    },
    "id": "O0MBcMO0PtTb",
    "outputId": "f8757cff-be9a-4937-be0b-123da908b495"
   },
   "outputs": [
    {
     "data": {
      "text/plain": [
       "<div class=\"lister-item mode-advanced\">\n",
       "<div class=\"lister-top-right\">\n",
       "<div class=\"ribbonize\" data-caller=\"filmosearch\" data-tconst=\"tt3315342\"></div>\n",
       "</div>\n",
       "<div class=\"lister-item-image float-left\">\n",
       "<a href=\"/title/tt3315342/\"> <img alt=\"Logan\" class=\"loadlate\" data-tconst=\"tt3315342\" height=\"98\" loadlate=\"https://m.media-amazon.com/images/M/MV5BYzc5MTU4N2EtYTkyMi00NjdhLTg3NWEtMTY4OTEyMzJhZTAzXkEyXkFqcGdeQXVyNjc1NTYyMjg@._V1_UX67_CR0,0,67,98_AL_.jpg\" src=\"https://m.media-amazon.com/images/S/sash/4FyxwxECzL-U1J8.png\" width=\"67\"/>\n",
       "</a> </div>\n",
       "<div class=\"lister-item-content\">\n",
       "<h3 class=\"lister-item-header\">\n",
       "<span class=\"lister-item-index unbold text-primary\">1.</span>\n",
       "<a href=\"/title/tt3315342/\">Logan</a>\n",
       "<span class=\"lister-item-year text-muted unbold\">(2017)</span>\n",
       "</h3>\n",
       "<p class=\"text-muted\">\n",
       "<span class=\"certificate\">15</span>\n",
       "<span class=\"ghost\">|</span>\n",
       "<span class=\"runtime\">137 min</span>\n",
       "<span class=\"ghost\">|</span>\n",
       "<span class=\"genre\">\n",
       "Action, Drama, Sci-Fi            </span>\n",
       "</p>\n",
       "<div class=\"ratings-bar\">\n",
       "<div class=\"inline-block ratings-imdb-rating\" data-value=\"8.1\" name=\"ir\">\n",
       "<span class=\"global-sprite rating-star imdb-rating\"></span>\n",
       "<strong>8.1</strong>\n",
       "</div>\n",
       "<div class=\"inline-block ratings-user-rating\">\n",
       "<span class=\"userRatingValue\" data-tconst=\"tt3315342\" id=\"urv_tt3315342\">\n",
       "<span class=\"global-sprite rating-star no-rating\"></span>\n",
       "<span class=\"rate\" data-no-rating=\"Rate this\" data-value=\"0\" name=\"ur\">Rate this</span>\n",
       "</span>\n",
       "<div class=\"starBarWidget\" id=\"sb_tt3315342\">\n",
       "<div class=\"rating rating-list\" data-csrf-token=\"\" data-ga-identifier=\"\" data-starbar-class=\"rating-list\" data-user=\"\" id=\"tt3315342|imdb|8.1|8.1|adv_li_tt||advsearch|title\" itemprop=\"aggregateRating\" itemscope=\"\" itemtype=\"http://schema.org/AggregateRating\" title=\"Users rated this 8.1/10 (783,161 votes) - click stars to rate\">\n",
       "<meta content=\"8.1\" itemprop=\"ratingValue\"/>\n",
       "<meta content=\"10\" itemprop=\"bestRating\"/>\n",
       "<meta content=\"783161\" itemprop=\"ratingCount\"/>\n",
       "<span class=\"rating-bg\"> </span>\n",
       "<span class=\"rating-imdb\" style=\"width: 113.4px\"> </span>\n",
       "<span class=\"rating-stars\">\n",
       "<a href=\"/register/login?why=vote\" rel=\"nofollow\" title=\"Register or login to rate this title\"><span>1</span></a>\n",
       "<a href=\"/register/login?why=vote\" rel=\"nofollow\" title=\"Register or login to rate this title\"><span>2</span></a>\n",
       "<a href=\"/register/login?why=vote\" rel=\"nofollow\" title=\"Register or login to rate this title\"><span>3</span></a>\n",
       "<a href=\"/register/login?why=vote\" rel=\"nofollow\" title=\"Register or login to rate this title\"><span>4</span></a>\n",
       "<a href=\"/register/login?why=vote\" rel=\"nofollow\" title=\"Register or login to rate this title\"><span>5</span></a>\n",
       "<a href=\"/register/login?why=vote\" rel=\"nofollow\" title=\"Register or login to rate this title\"><span>6</span></a>\n",
       "<a href=\"/register/login?why=vote\" rel=\"nofollow\" title=\"Register or login to rate this title\"><span>7</span></a>\n",
       "<a href=\"/register/login?why=vote\" rel=\"nofollow\" title=\"Register or login to rate this title\"><span>8</span></a>\n",
       "<a href=\"/register/login?why=vote\" rel=\"nofollow\" title=\"Register or login to rate this title\"><span>9</span></a>\n",
       "<a href=\"/register/login?why=vote\" rel=\"nofollow\" title=\"Register or login to rate this title\"><span>10</span></a>\n",
       "</span>\n",
       "<span class=\"rating-rating\"><span class=\"value\">8.1</span><span class=\"grey\">/</span><span class=\"grey\">10</span></span>\n",
       "<span class=\"rating-cancel\"><a href=\"/title/tt3315342/vote\" rel=\"nofollow\" title=\"Delete\"><span>X</span></a></span>\n",
       " </div>\n",
       "</div>\n",
       "</div>\n",
       "<div class=\"inline-block ratings-metascore\">\n",
       "<span class=\"metascore favorable\">77        </span>\n",
       "        Metascore\n",
       "            </div>\n",
       "</div>\n",
       "<p class=\"text-muted\">\n",
       "In a future where mutants are nearly extinct, an elderly and weary Logan leads a quiet life. But when Laura, a mutant child pursued by scientists, comes to him for help, he must get her to safety.</p>\n",
       "<p class=\"\">\n",
       "    Director:\n",
       "<a href=\"/name/nm0003506/\">James Mangold</a>\n",
       "<span class=\"ghost\">|</span> \n",
       "    Stars:\n",
       "<a href=\"/name/nm0413168/\">Hugh Jackman</a>, \n",
       "<a href=\"/name/nm0001772/\">Patrick Stewart</a>, \n",
       "<a href=\"/name/nm6748436/\">Dafne Keen</a>, \n",
       "<a href=\"/name/nm2933542/\">Boyd Holbrook</a>\n",
       "</p>\n",
       "<p class=\"sort-num_votes-visible\">\n",
       "<span class=\"text-muted\">Votes:</span>\n",
       "<span data-value=\"783161\" name=\"nv\">783,161</span>\n",
       "<span class=\"ghost\">|</span> <span class=\"text-muted\">Gross:</span>\n",
       "<span data-value=\"226,277,068\" name=\"nv\">$226.28M</span>\n",
       "</p>\n",
       "</div>\n",
       "</div>"
      ]
     },
     "execution_count": 7,
     "metadata": {},
     "output_type": "execute_result"
    }
   ],
   "source": [
    "first_movie"
   ]
  },
  {
   "cell_type": "code",
   "execution_count": 8,
   "metadata": {
    "colab": {
     "base_uri": "https://localhost:8080/"
    },
    "id": "tyAc3lvrvgpk",
    "outputId": "928c040e-d1a3-4554-f84f-75cf58f7b1aa"
   },
   "outputs": [
    {
     "data": {
      "text/plain": [
       "<div class=\"lister-top-right\">\n",
       "<div class=\"ribbonize\" data-caller=\"filmosearch\" data-tconst=\"tt3315342\"></div>\n",
       "</div>"
      ]
     },
     "execution_count": 8,
     "metadata": {},
     "output_type": "execute_result"
    }
   ],
   "source": [
    "first_movie.div"
   ]
  },
  {
   "cell_type": "code",
   "execution_count": 9,
   "metadata": {
    "colab": {
     "base_uri": "https://localhost:8080/"
    },
    "id": "RWXpONFwviNN",
    "outputId": "8ea9bcd5-e958-4c55-dec4-945def4c17a1"
   },
   "outputs": [
    {
     "data": {
      "text/plain": [
       "<a href=\"/title/tt3315342/\"> <img alt=\"Logan\" class=\"loadlate\" data-tconst=\"tt3315342\" height=\"98\" loadlate=\"https://m.media-amazon.com/images/M/MV5BYzc5MTU4N2EtYTkyMi00NjdhLTg3NWEtMTY4OTEyMzJhZTAzXkEyXkFqcGdeQXVyNjc1NTYyMjg@._V1_UX67_CR0,0,67,98_AL_.jpg\" src=\"https://m.media-amazon.com/images/S/sash/4FyxwxECzL-U1J8.png\" width=\"67\"/>\n",
       "</a>"
      ]
     },
     "execution_count": 9,
     "metadata": {},
     "output_type": "execute_result"
    }
   ],
   "source": [
    "first_movie.a"
   ]
  },
  {
   "cell_type": "code",
   "execution_count": 10,
   "metadata": {
    "colab": {
     "base_uri": "https://localhost:8080/"
    },
    "id": "ffqDCjIIvjet",
    "outputId": "34888ab7-28c3-44bb-f0a5-fa5b8736cd54"
   },
   "outputs": [
    {
     "data": {
      "text/plain": [
       "<h3 class=\"lister-item-header\">\n",
       "<span class=\"lister-item-index unbold text-primary\">1.</span>\n",
       "<a href=\"/title/tt3315342/\">Logan</a>\n",
       "<span class=\"lister-item-year text-muted unbold\">(2017)</span>\n",
       "</h3>"
      ]
     },
     "execution_count": 10,
     "metadata": {},
     "output_type": "execute_result"
    }
   ],
   "source": [
    "first_movie.h3"
   ]
  },
  {
   "cell_type": "code",
   "execution_count": 11,
   "metadata": {
    "colab": {
     "base_uri": "https://localhost:8080/",
     "height": 36
    },
    "id": "VDyZCAtJvlVQ",
    "outputId": "db2b649a-a91a-4f3f-d9ba-e11a98c6f777"
   },
   "outputs": [
    {
     "data": {
      "text/plain": [
       "'Logan'"
      ]
     },
     "execution_count": 11,
     "metadata": {},
     "output_type": "execute_result"
    }
   ],
   "source": [
    "first_movie.h3.a.text"
   ]
  },
  {
   "cell_type": "code",
   "execution_count": 12,
   "metadata": {
    "colab": {
     "base_uri": "https://localhost:8080/",
     "height": 36
    },
    "id": "GDqlBOkZvm2V",
    "outputId": "1d92cabb-a380-4386-8601-2b95520bcd31"
   },
   "outputs": [
    {
     "data": {
      "text/plain": [
       "'Logan'"
      ]
     },
     "execution_count": 12,
     "metadata": {},
     "output_type": "execute_result"
    }
   ],
   "source": [
    "first_name = first_movie.h3.a.text\n",
    "first_name"
   ]
  },
  {
   "cell_type": "code",
   "execution_count": 13,
   "metadata": {
    "colab": {
     "base_uri": "https://localhost:8080/",
     "height": 36
    },
    "id": "PsRVehz8vpHe",
    "outputId": "6ae8651a-38d1-4fd3-b66b-7641d9fd331d"
   },
   "outputs": [
    {
     "data": {
      "text/plain": [
       "'(2017)'"
      ]
     },
     "execution_count": 13,
     "metadata": {},
     "output_type": "execute_result"
    }
   ],
   "source": [
    "first_year = first_movie.h3.find('span', class_ = 'lister-item-year text-muted unbold')\n",
    "first_year.text"
   ]
  },
  {
   "cell_type": "code",
   "execution_count": 14,
   "metadata": {
    "colab": {
     "base_uri": "https://localhost:8080/",
     "height": 36
    },
    "id": "kx7FMI1FvrPu",
    "outputId": "eb83a587-cb47-4938-daea-2837061ccc76"
   },
   "outputs": [
    {
     "data": {
      "text/plain": [
       "'(2017)'"
      ]
     },
     "execution_count": 14,
     "metadata": {},
     "output_type": "execute_result"
    }
   ],
   "source": [
    "first_year = first_year.text\n",
    "first_year"
   ]
  },
  {
   "cell_type": "code",
   "execution_count": 15,
   "metadata": {
    "colab": {
     "base_uri": "https://localhost:8080/"
    },
    "id": "qJ0aOqzhvtP_",
    "outputId": "7321cbfc-c57c-4ee6-be3a-5765021724a9"
   },
   "outputs": [
    {
     "name": "stdout",
     "output_type": "stream",
     "text": [
      "<div class=\"lister-item mode-advanced\">\n",
      " <div class=\"lister-top-right\">\n",
      "  <div class=\"ribbonize\" data-caller=\"filmosearch\" data-tconst=\"tt3315342\">\n",
      "  </div>\n",
      " </div>\n",
      " <div class=\"lister-item-image float-left\">\n",
      "  <a href=\"/title/tt3315342/\">\n",
      "   <img alt=\"Logan\" class=\"loadlate\" data-tconst=\"tt3315342\" height=\"98\" loadlate=\"https://m.media-amazon.com/images/M/MV5BYzc5MTU4N2EtYTkyMi00NjdhLTg3NWEtMTY4OTEyMzJhZTAzXkEyXkFqcGdeQXVyNjc1NTYyMjg@._V1_UX67_CR0,0,67,98_AL_.jpg\" src=\"https://m.media-amazon.com/images/S/sash/4FyxwxECzL-U1J8.png\" width=\"67\"/>\n",
      "  </a>\n",
      " </div>\n",
      " <div class=\"lister-item-content\">\n",
      "  <h3 class=\"lister-item-header\">\n",
      "   <span class=\"lister-item-index unbold text-primary\">\n",
      "    1.\n",
      "   </span>\n",
      "   <a href=\"/title/tt3315342/\">\n",
      "    Logan\n",
      "   </a>\n",
      "   <span class=\"lister-item-year text-muted unbold\">\n",
      "    (2017)\n",
      "   </span>\n",
      "  </h3>\n",
      "  <p class=\"text-muted\">\n",
      "   <span class=\"certificate\">\n",
      "    15\n",
      "   </span>\n",
      "   <span class=\"ghost\">\n",
      "    |\n",
      "   </span>\n",
      "   <span class=\"runtime\">\n",
      "    137 min\n",
      "   </span>\n",
      "   <span class=\"ghost\">\n",
      "    |\n",
      "   </span>\n",
      "   <span class=\"genre\">\n",
      "    Action, Drama, Sci-Fi\n",
      "   </span>\n",
      "  </p>\n",
      "  <div class=\"ratings-bar\">\n",
      "   <div class=\"inline-block ratings-imdb-rating\" data-value=\"8.1\" name=\"ir\">\n",
      "    <span class=\"global-sprite rating-star imdb-rating\">\n",
      "    </span>\n",
      "    <strong>\n",
      "     8.1\n",
      "    </strong>\n",
      "   </div>\n",
      "   <div class=\"inline-block ratings-user-rating\">\n",
      "    <span class=\"userRatingValue\" data-tconst=\"tt3315342\" id=\"urv_tt3315342\">\n",
      "     <span class=\"global-sprite rating-star no-rating\">\n",
      "     </span>\n",
      "     <span class=\"rate\" data-no-rating=\"Rate this\" data-value=\"0\" name=\"ur\">\n",
      "      Rate this\n",
      "     </span>\n",
      "    </span>\n",
      "    <div class=\"starBarWidget\" id=\"sb_tt3315342\">\n",
      "     <div class=\"rating rating-list\" data-csrf-token=\"\" data-ga-identifier=\"\" data-starbar-class=\"rating-list\" data-user=\"\" id=\"tt3315342|imdb|8.1|8.1|adv_li_tt||advsearch|title\" itemprop=\"aggregateRating\" itemscope=\"\" itemtype=\"http://schema.org/AggregateRating\" title=\"Users rated this 8.1/10 (783,161 votes) - click stars to rate\">\n",
      "      <meta content=\"8.1\" itemprop=\"ratingValue\"/>\n",
      "      <meta content=\"10\" itemprop=\"bestRating\"/>\n",
      "      <meta content=\"783161\" itemprop=\"ratingCount\"/>\n",
      "      <span class=\"rating-bg\">\n",
      "      </span>\n",
      "      <span class=\"rating-imdb\" style=\"width: 113.4px\">\n",
      "      </span>\n",
      "      <span class=\"rating-stars\">\n",
      "       <a href=\"/register/login?why=vote\" rel=\"nofollow\" title=\"Register or login to rate this title\">\n",
      "        <span>\n",
      "         1\n",
      "        </span>\n",
      "       </a>\n",
      "       <a href=\"/register/login?why=vote\" rel=\"nofollow\" title=\"Register or login to rate this title\">\n",
      "        <span>\n",
      "         2\n",
      "        </span>\n",
      "       </a>\n",
      "       <a href=\"/register/login?why=vote\" rel=\"nofollow\" title=\"Register or login to rate this title\">\n",
      "        <span>\n",
      "         3\n",
      "        </span>\n",
      "       </a>\n",
      "       <a href=\"/register/login?why=vote\" rel=\"nofollow\" title=\"Register or login to rate this title\">\n",
      "        <span>\n",
      "         4\n",
      "        </span>\n",
      "       </a>\n",
      "       <a href=\"/register/login?why=vote\" rel=\"nofollow\" title=\"Register or login to rate this title\">\n",
      "        <span>\n",
      "         5\n",
      "        </span>\n",
      "       </a>\n",
      "       <a href=\"/register/login?why=vote\" rel=\"nofollow\" title=\"Register or login to rate this title\">\n",
      "        <span>\n",
      "         6\n",
      "        </span>\n",
      "       </a>\n",
      "       <a href=\"/register/login?why=vote\" rel=\"nofollow\" title=\"Register or login to rate this title\">\n",
      "        <span>\n",
      "         7\n",
      "        </span>\n",
      "       </a>\n",
      "       <a href=\"/register/login?why=vote\" rel=\"nofollow\" title=\"Register or login to rate this title\">\n",
      "        <span>\n",
      "         8\n",
      "        </span>\n",
      "       </a>\n",
      "       <a href=\"/register/login?why=vote\" rel=\"nofollow\" title=\"Register or login to rate this title\">\n",
      "        <span>\n",
      "         9\n",
      "        </span>\n",
      "       </a>\n",
      "       <a href=\"/register/login?why=vote\" rel=\"nofollow\" title=\"Register or login to rate this title\">\n",
      "        <span>\n",
      "         10\n",
      "        </span>\n",
      "       </a>\n",
      "      </span>\n",
      "      <span class=\"rating-rating\">\n",
      "       <span class=\"value\">\n",
      "        8.1\n",
      "       </span>\n",
      "       <span class=\"grey\">\n",
      "        /\n",
      "       </span>\n",
      "       <span class=\"grey\">\n",
      "        10\n",
      "       </span>\n",
      "      </span>\n",
      "      <span class=\"rating-cancel\">\n",
      "       <a href=\"/title/tt3315342/vote\" rel=\"nofollow\" title=\"Delete\">\n",
      "        <span>\n",
      "         X\n",
      "        </span>\n",
      "       </a>\n",
      "      </span>\n",
      "     </div>\n",
      "    </div>\n",
      "   </div>\n",
      "   <div class=\"inline-block ratings-metascore\">\n",
      "    <span class=\"metascore favorable\">\n",
      "     77\n",
      "    </span>\n",
      "    Metascore\n",
      "   </div>\n",
      "  </div>\n",
      "  <p class=\"text-muted\">\n",
      "   In a future where mutants are nearly extinct, an elderly and weary Logan leads a quiet life. But when Laura, a mutant child pursued by scientists, comes to him for help, he must get her to safety.\n",
      "  </p>\n",
      "  <p class=\"\">\n",
      "   Director:\n",
      "   <a href=\"/name/nm0003506/\">\n",
      "    James Mangold\n",
      "   </a>\n",
      "   <span class=\"ghost\">\n",
      "    |\n",
      "   </span>\n",
      "   Stars:\n",
      "   <a href=\"/name/nm0413168/\">\n",
      "    Hugh Jackman\n",
      "   </a>\n",
      "   ,\n",
      "   <a href=\"/name/nm0001772/\">\n",
      "    Patrick Stewart\n",
      "   </a>\n",
      "   ,\n",
      "   <a href=\"/name/nm6748436/\">\n",
      "    Dafne Keen\n",
      "   </a>\n",
      "   ,\n",
      "   <a href=\"/name/nm2933542/\">\n",
      "    Boyd Holbrook\n",
      "   </a>\n",
      "  </p>\n",
      "  <p class=\"sort-num_votes-visible\">\n",
      "   <span class=\"text-muted\">\n",
      "    Votes:\n",
      "   </span>\n",
      "   <span data-value=\"783161\" name=\"nv\">\n",
      "    783,161\n",
      "   </span>\n",
      "   <span class=\"ghost\">\n",
      "    |\n",
      "   </span>\n",
      "   <span class=\"text-muted\">\n",
      "    Gross:\n",
      "   </span>\n",
      "   <span data-value=\"226,277,068\" name=\"nv\">\n",
      "    $226.28M\n",
      "   </span>\n",
      "  </p>\n",
      " </div>\n",
      "</div>\n",
      "\n"
     ]
    }
   ],
   "source": [
    "print(first_movie.prettify())"
   ]
  },
  {
   "cell_type": "code",
   "execution_count": 16,
   "metadata": {
    "colab": {
     "base_uri": "https://localhost:8080/"
    },
    "id": "4ZcBBDlUvvCP",
    "outputId": "2e719c89-aab4-45f0-fd21-81eeb21908bf"
   },
   "outputs": [
    {
     "data": {
      "text/plain": [
       "8.1"
      ]
     },
     "execution_count": 16,
     "metadata": {},
     "output_type": "execute_result"
    }
   ],
   "source": [
    "first_imdb = float(first_movie.strong.text)\n",
    "first_imdb"
   ]
  },
  {
   "cell_type": "code",
   "execution_count": 17,
   "metadata": {
    "colab": {
     "base_uri": "https://localhost:8080/"
    },
    "id": "mJavDUELvyhH",
    "outputId": "7f75950a-1961-467c-92b9-8cd07dbbfc07"
   },
   "outputs": [
    {
     "name": "stdout",
     "output_type": "stream",
     "text": [
      "77\n"
     ]
    }
   ],
   "source": [
    "first_mscore = first_movie.find('span', class_ = 'metascore favorable')\n",
    "first_mscore = int(first_mscore.text)\n",
    "print(first_mscore)"
   ]
  },
  {
   "cell_type": "code",
   "execution_count": 18,
   "metadata": {
    "colab": {
     "base_uri": "https://localhost:8080/"
    },
    "id": "SFmJNXRgv0Ov",
    "outputId": "d3ab9e08-da4b-40ff-8298-4e5cee257b40"
   },
   "outputs": [
    {
     "data": {
      "text/plain": [
       "<span data-value=\"783161\" name=\"nv\">783,161</span>"
      ]
     },
     "execution_count": 18,
     "metadata": {},
     "output_type": "execute_result"
    }
   ],
   "source": [
    "first_votes = first_movie.find('span', attrs = {'name':'nv'})\n",
    "first_votes"
   ]
  },
  {
   "cell_type": "code",
   "execution_count": 19,
   "metadata": {
    "colab": {
     "base_uri": "https://localhost:8080/",
     "height": 36
    },
    "id": "rJLDzv8rv14H",
    "outputId": "60e184a8-6af3-4723-ec21-6040f5f67073"
   },
   "outputs": [
    {
     "data": {
      "text/plain": [
       "'783161'"
      ]
     },
     "execution_count": 19,
     "metadata": {},
     "output_type": "execute_result"
    }
   ],
   "source": [
    "first_votes['data-value']"
   ]
  },
  {
   "cell_type": "code",
   "execution_count": 20,
   "metadata": {
    "id": "a6rWkQ6Tv30Y"
   },
   "outputs": [],
   "source": [
    "first_votes = int(first_votes['data-value'])"
   ]
  },
  {
   "cell_type": "code",
   "execution_count": 21,
   "metadata": {
    "colab": {
     "base_uri": "https://localhost:8080/"
    },
    "id": "lpgRoZHzv5RQ",
    "outputId": "3c3b5349-7387-493b-f3b1-b42b17ebe664"
   },
   "outputs": [
    {
     "name": "stdout",
     "output_type": "stream",
     "text": [
      "<div class=\"inline-block ratings-metascore\">\n",
      "<span class=\"metascore favorable\">85        </span>\n",
      "        Metascore\n",
      "            </div>\n"
     ]
    }
   ],
   "source": [
    "eighth_movie_mscore = movie_containers[7].find('div', class_ = 'ratings-metascore')\n",
    "print(eighth_movie_mscore)"
   ]
  },
  {
   "cell_type": "code",
   "execution_count": 22,
   "metadata": {
    "colab": {
     "base_uri": "https://localhost:8080/"
    },
    "id": "6aABEZRCwGSz",
    "outputId": "c39f032a-ada0-4610-888a-16acaf814cf5"
   },
   "outputs": [
    {
     "name": "stdout",
     "output_type": "stream",
     "text": [
      "['Logan', 'Thor: Ragnarok', 'Guardians of the Galaxy Vol. 2', 'Dunkerque', 'Spider-Man: De regreso a casa', 'Mujer Maravilla', 'Star Wars: Los últimos jedi', 'Huye', 'Blade Runner 2049', 'It', 'Baby, el aprendiz del crimen', 'Coco', 'Tres anúncios por un crimen', 'La casa de papel', 'John Wick: Chapter 2', 'Liga de Justicia', 'La forma del agua', 'Dark', 'Jumanji en la selva', 'Kingsman: El círculo dorado', 'Kong: Skull Island', 'Ozark', 'Piratas del Caribe: La venganza de Salazar', 'La bella y la bestia', 'Mindhunter', 'Lady Bird', '13 Reasons Why', 'El gran showman', 'Alien: Covenant', 'Llámame por tu nombre', 'Asesinato en el Expreso de Oriente', 'La guerra del planeta de los simios', 'Muerte misteriosa', 'The Punisher', \"The Handmaid's Tale\", 'Rápidos y furiosos 8', 'Life', 'Duro de cuidar', '¡madre!', 'Yo, Tonya', 'El Rey Arturo: La Leyenda de la Espada', 'Ghost in the Shell', 'Big Little Lies', 'Las horas más oscuras', 'The End of the F***ing World', 'Atómica', 'La momia', 'Bright', 'Guardianes de la bahía', 'Barry Seal: Sólo en América']\n",
      "['2017', '2017', '2017', '2017', '2017', '2017', '2017', '2017', '2017', '2017', '2017', '2017', '2017', '2017', '2017', '2017', '2017', '2017', '2017', '2017', '2017', '2017', '2017', '2017', '2017', '2017', '2017', '2017', '2017', '2017', '2017', '2017', '2017', '2017', '2017', '2017', '2017', '2017', '2017', '2017', '2017', '2017', '2017', '2017', '2017', '2017', '2017', '2017', '2017', '2017']\n",
      "[8.1, 8.1, 8.1, 8.1, 8.1, 8.1, 8.1, 8.1, 8.1, 8.1, 8.1, 8.1, 8.1, 8.1, 8.1, 8.1, 8.1, 8.1, 8.1, 8.1, 8.1, 8.1, 8.1, 8.1, 8.1, 8.1, 8.1, 8.1, 8.1, 8.1, 8.1, 8.1, 8.1, 8.1, 8.1, 8.1, 8.1, 8.1, 8.1, 8.1, 8.1, 8.1, 8.1, 8.1, 8.1, 8.1, 8.1, 8.1, 8.1, 8.1]\n",
      "[77, 74, 67, 94, 73, 76, 84, 85, 81, 69, 86, 81, 88, nan, 75, nan, 87, nan, nan, nan, 62, nan, nan, 65, nan, 93, nan, nan, 65, 94, nan, 82, 73, nan, nan, nan, nan, nan, 75, 77, nan, nan, nan, 75, nan, 63, nan, nan, nan, 65]\n",
      "[783161, 783161, 783161, 783161, 783161, 783161, 783161, 783161, 783161, 783161, 783161, 783161, 783161, 783161, 783161, 783161, 783161, 783161, 783161, 783161, 783161, 783161, 783161, 783161, 783161, 783161, 783161, 783161, 783161, 783161, 783161, 783161, 783161, 783161, 783161, 783161, 783161, 783161, 783161, 783161, 783161, 783161, 783161, 783161, 783161, 783161, 783161, 783161, 783161, 783161]\n"
     ]
    }
   ],
   "source": [
    "import numpy as np\n",
    "\n",
    "\n",
    "names = []\n",
    "years = []\n",
    "imdb_ratings = []\n",
    "metascores = []\n",
    "votes = []\n",
    "\n",
    "\n",
    "for countainer in movie_containers:\n",
    "    name = countainer.h3.a.text\n",
    "    names.append(name)\n",
    "    year = countainer.h3.find('span', class_ = 'lister-item-year text-muted unbold').text\n",
    "    start_year = year.find('2')\n",
    "    years.append(year[start_year:start_year+4])\n",
    "    imdb_rating = float(first_movie.strong.text)\n",
    "    imdb_ratings.append(imdb_rating)\n",
    "    metascore = countainer.find('span', class_ = 'metascore favorable')\n",
    "    if str(type(metascore)) == \"<class 'NoneType'>\":\n",
    "        metascores.append(np.nan)\n",
    "    else:\n",
    "        metascores.append(int(metascore.text))\n",
    "    vote = int(first_movie.find('span', attrs = {'name':'nv'})['data-value'])\n",
    "    votes.append(vote)\n",
    "    \n",
    "    \n",
    "print(names)\n",
    "print(years)\n",
    "print(imdb_ratings)\n",
    "print(metascores)\n",
    "print(votes)\n",
    "    "
   ]
  },
  {
   "cell_type": "code",
   "execution_count": 23,
   "metadata": {
    "colab": {
     "base_uri": "https://localhost:8080/"
    },
    "id": "xzB96DF0wMYL",
    "outputId": "7473019e-549e-49d7-8674-d24583574caa"
   },
   "outputs": [
    {
     "name": "stdout",
     "output_type": "stream",
     "text": [
      "50 50 50 50 50\n"
     ]
    }
   ],
   "source": [
    "print(len(names),len(years),len(imdb_ratings),len(metascores),len(votes))"
   ]
  },
  {
   "cell_type": "code",
   "execution_count": 24,
   "metadata": {
    "id": "PoYgcKjJwPvL"
   },
   "outputs": [],
   "source": [
    "import pandas as pd\n",
    "df = pd.DataFrame({'name':names, 'year':years, 'imdb_rating':imdb_ratings, 'metascore':metascores, 'vote':votes})"
   ]
  },
  {
   "cell_type": "code",
   "execution_count": 25,
   "metadata": {
    "colab": {
     "base_uri": "https://localhost:8080/",
     "height": 1000
    },
    "id": "o6FFgVhM0Pkm",
    "outputId": "57ed3bd9-759c-42c6-d0d4-1bb0b6a41579"
   },
   "outputs": [
    {
     "data": {
      "text/html": [
       "<div>\n",
       "<style scoped>\n",
       "    .dataframe tbody tr th:only-of-type {\n",
       "        vertical-align: middle;\n",
       "    }\n",
       "\n",
       "    .dataframe tbody tr th {\n",
       "        vertical-align: top;\n",
       "    }\n",
       "\n",
       "    .dataframe thead th {\n",
       "        text-align: right;\n",
       "    }\n",
       "</style>\n",
       "<table border=\"1\" class=\"dataframe\">\n",
       "  <thead>\n",
       "    <tr style=\"text-align: right;\">\n",
       "      <th></th>\n",
       "      <th>name</th>\n",
       "      <th>year</th>\n",
       "      <th>imdb_rating</th>\n",
       "      <th>metascore</th>\n",
       "      <th>vote</th>\n",
       "    </tr>\n",
       "  </thead>\n",
       "  <tbody>\n",
       "    <tr>\n",
       "      <th>0</th>\n",
       "      <td>Logan</td>\n",
       "      <td>2017</td>\n",
       "      <td>8.1</td>\n",
       "      <td>77.0</td>\n",
       "      <td>783161</td>\n",
       "    </tr>\n",
       "    <tr>\n",
       "      <th>1</th>\n",
       "      <td>Thor: Ragnarok</td>\n",
       "      <td>2017</td>\n",
       "      <td>8.1</td>\n",
       "      <td>74.0</td>\n",
       "      <td>783161</td>\n",
       "    </tr>\n",
       "    <tr>\n",
       "      <th>2</th>\n",
       "      <td>Guardians of the Galaxy Vol. 2</td>\n",
       "      <td>2017</td>\n",
       "      <td>8.1</td>\n",
       "      <td>67.0</td>\n",
       "      <td>783161</td>\n",
       "    </tr>\n",
       "    <tr>\n",
       "      <th>3</th>\n",
       "      <td>Dunkerque</td>\n",
       "      <td>2017</td>\n",
       "      <td>8.1</td>\n",
       "      <td>94.0</td>\n",
       "      <td>783161</td>\n",
       "    </tr>\n",
       "    <tr>\n",
       "      <th>4</th>\n",
       "      <td>Spider-Man: De regreso a casa</td>\n",
       "      <td>2017</td>\n",
       "      <td>8.1</td>\n",
       "      <td>73.0</td>\n",
       "      <td>783161</td>\n",
       "    </tr>\n",
       "    <tr>\n",
       "      <th>5</th>\n",
       "      <td>Mujer Maravilla</td>\n",
       "      <td>2017</td>\n",
       "      <td>8.1</td>\n",
       "      <td>76.0</td>\n",
       "      <td>783161</td>\n",
       "    </tr>\n",
       "    <tr>\n",
       "      <th>6</th>\n",
       "      <td>Star Wars: Los últimos jedi</td>\n",
       "      <td>2017</td>\n",
       "      <td>8.1</td>\n",
       "      <td>84.0</td>\n",
       "      <td>783161</td>\n",
       "    </tr>\n",
       "    <tr>\n",
       "      <th>7</th>\n",
       "      <td>Huye</td>\n",
       "      <td>2017</td>\n",
       "      <td>8.1</td>\n",
       "      <td>85.0</td>\n",
       "      <td>783161</td>\n",
       "    </tr>\n",
       "    <tr>\n",
       "      <th>8</th>\n",
       "      <td>Blade Runner 2049</td>\n",
       "      <td>2017</td>\n",
       "      <td>8.1</td>\n",
       "      <td>81.0</td>\n",
       "      <td>783161</td>\n",
       "    </tr>\n",
       "    <tr>\n",
       "      <th>9</th>\n",
       "      <td>It</td>\n",
       "      <td>2017</td>\n",
       "      <td>8.1</td>\n",
       "      <td>69.0</td>\n",
       "      <td>783161</td>\n",
       "    </tr>\n",
       "    <tr>\n",
       "      <th>10</th>\n",
       "      <td>Baby, el aprendiz del crimen</td>\n",
       "      <td>2017</td>\n",
       "      <td>8.1</td>\n",
       "      <td>86.0</td>\n",
       "      <td>783161</td>\n",
       "    </tr>\n",
       "    <tr>\n",
       "      <th>11</th>\n",
       "      <td>Coco</td>\n",
       "      <td>2017</td>\n",
       "      <td>8.1</td>\n",
       "      <td>81.0</td>\n",
       "      <td>783161</td>\n",
       "    </tr>\n",
       "    <tr>\n",
       "      <th>12</th>\n",
       "      <td>Tres anúncios por un crimen</td>\n",
       "      <td>2017</td>\n",
       "      <td>8.1</td>\n",
       "      <td>88.0</td>\n",
       "      <td>783161</td>\n",
       "    </tr>\n",
       "    <tr>\n",
       "      <th>13</th>\n",
       "      <td>La casa de papel</td>\n",
       "      <td>2017</td>\n",
       "      <td>8.1</td>\n",
       "      <td>NaN</td>\n",
       "      <td>783161</td>\n",
       "    </tr>\n",
       "    <tr>\n",
       "      <th>14</th>\n",
       "      <td>John Wick: Chapter 2</td>\n",
       "      <td>2017</td>\n",
       "      <td>8.1</td>\n",
       "      <td>75.0</td>\n",
       "      <td>783161</td>\n",
       "    </tr>\n",
       "    <tr>\n",
       "      <th>15</th>\n",
       "      <td>Liga de Justicia</td>\n",
       "      <td>2017</td>\n",
       "      <td>8.1</td>\n",
       "      <td>NaN</td>\n",
       "      <td>783161</td>\n",
       "    </tr>\n",
       "    <tr>\n",
       "      <th>16</th>\n",
       "      <td>La forma del agua</td>\n",
       "      <td>2017</td>\n",
       "      <td>8.1</td>\n",
       "      <td>87.0</td>\n",
       "      <td>783161</td>\n",
       "    </tr>\n",
       "    <tr>\n",
       "      <th>17</th>\n",
       "      <td>Dark</td>\n",
       "      <td>2017</td>\n",
       "      <td>8.1</td>\n",
       "      <td>NaN</td>\n",
       "      <td>783161</td>\n",
       "    </tr>\n",
       "    <tr>\n",
       "      <th>18</th>\n",
       "      <td>Jumanji en la selva</td>\n",
       "      <td>2017</td>\n",
       "      <td>8.1</td>\n",
       "      <td>NaN</td>\n",
       "      <td>783161</td>\n",
       "    </tr>\n",
       "    <tr>\n",
       "      <th>19</th>\n",
       "      <td>Kingsman: El círculo dorado</td>\n",
       "      <td>2017</td>\n",
       "      <td>8.1</td>\n",
       "      <td>NaN</td>\n",
       "      <td>783161</td>\n",
       "    </tr>\n",
       "    <tr>\n",
       "      <th>20</th>\n",
       "      <td>Kong: Skull Island</td>\n",
       "      <td>2017</td>\n",
       "      <td>8.1</td>\n",
       "      <td>62.0</td>\n",
       "      <td>783161</td>\n",
       "    </tr>\n",
       "    <tr>\n",
       "      <th>21</th>\n",
       "      <td>Ozark</td>\n",
       "      <td>2017</td>\n",
       "      <td>8.1</td>\n",
       "      <td>NaN</td>\n",
       "      <td>783161</td>\n",
       "    </tr>\n",
       "    <tr>\n",
       "      <th>22</th>\n",
       "      <td>Piratas del Caribe: La venganza de Salazar</td>\n",
       "      <td>2017</td>\n",
       "      <td>8.1</td>\n",
       "      <td>NaN</td>\n",
       "      <td>783161</td>\n",
       "    </tr>\n",
       "    <tr>\n",
       "      <th>23</th>\n",
       "      <td>La bella y la bestia</td>\n",
       "      <td>2017</td>\n",
       "      <td>8.1</td>\n",
       "      <td>65.0</td>\n",
       "      <td>783161</td>\n",
       "    </tr>\n",
       "    <tr>\n",
       "      <th>24</th>\n",
       "      <td>Mindhunter</td>\n",
       "      <td>2017</td>\n",
       "      <td>8.1</td>\n",
       "      <td>NaN</td>\n",
       "      <td>783161</td>\n",
       "    </tr>\n",
       "    <tr>\n",
       "      <th>25</th>\n",
       "      <td>Lady Bird</td>\n",
       "      <td>2017</td>\n",
       "      <td>8.1</td>\n",
       "      <td>93.0</td>\n",
       "      <td>783161</td>\n",
       "    </tr>\n",
       "    <tr>\n",
       "      <th>26</th>\n",
       "      <td>13 Reasons Why</td>\n",
       "      <td>2017</td>\n",
       "      <td>8.1</td>\n",
       "      <td>NaN</td>\n",
       "      <td>783161</td>\n",
       "    </tr>\n",
       "    <tr>\n",
       "      <th>27</th>\n",
       "      <td>El gran showman</td>\n",
       "      <td>2017</td>\n",
       "      <td>8.1</td>\n",
       "      <td>NaN</td>\n",
       "      <td>783161</td>\n",
       "    </tr>\n",
       "    <tr>\n",
       "      <th>28</th>\n",
       "      <td>Alien: Covenant</td>\n",
       "      <td>2017</td>\n",
       "      <td>8.1</td>\n",
       "      <td>65.0</td>\n",
       "      <td>783161</td>\n",
       "    </tr>\n",
       "    <tr>\n",
       "      <th>29</th>\n",
       "      <td>Llámame por tu nombre</td>\n",
       "      <td>2017</td>\n",
       "      <td>8.1</td>\n",
       "      <td>94.0</td>\n",
       "      <td>783161</td>\n",
       "    </tr>\n",
       "    <tr>\n",
       "      <th>30</th>\n",
       "      <td>Asesinato en el Expreso de Oriente</td>\n",
       "      <td>2017</td>\n",
       "      <td>8.1</td>\n",
       "      <td>NaN</td>\n",
       "      <td>783161</td>\n",
       "    </tr>\n",
       "    <tr>\n",
       "      <th>31</th>\n",
       "      <td>La guerra del planeta de los simios</td>\n",
       "      <td>2017</td>\n",
       "      <td>8.1</td>\n",
       "      <td>82.0</td>\n",
       "      <td>783161</td>\n",
       "    </tr>\n",
       "    <tr>\n",
       "      <th>32</th>\n",
       "      <td>Muerte misteriosa</td>\n",
       "      <td>2017</td>\n",
       "      <td>8.1</td>\n",
       "      <td>73.0</td>\n",
       "      <td>783161</td>\n",
       "    </tr>\n",
       "    <tr>\n",
       "      <th>33</th>\n",
       "      <td>The Punisher</td>\n",
       "      <td>2017</td>\n",
       "      <td>8.1</td>\n",
       "      <td>NaN</td>\n",
       "      <td>783161</td>\n",
       "    </tr>\n",
       "    <tr>\n",
       "      <th>34</th>\n",
       "      <td>The Handmaid's Tale</td>\n",
       "      <td>2017</td>\n",
       "      <td>8.1</td>\n",
       "      <td>NaN</td>\n",
       "      <td>783161</td>\n",
       "    </tr>\n",
       "    <tr>\n",
       "      <th>35</th>\n",
       "      <td>Rápidos y furiosos 8</td>\n",
       "      <td>2017</td>\n",
       "      <td>8.1</td>\n",
       "      <td>NaN</td>\n",
       "      <td>783161</td>\n",
       "    </tr>\n",
       "    <tr>\n",
       "      <th>36</th>\n",
       "      <td>Life</td>\n",
       "      <td>2017</td>\n",
       "      <td>8.1</td>\n",
       "      <td>NaN</td>\n",
       "      <td>783161</td>\n",
       "    </tr>\n",
       "    <tr>\n",
       "      <th>37</th>\n",
       "      <td>Duro de cuidar</td>\n",
       "      <td>2017</td>\n",
       "      <td>8.1</td>\n",
       "      <td>NaN</td>\n",
       "      <td>783161</td>\n",
       "    </tr>\n",
       "    <tr>\n",
       "      <th>38</th>\n",
       "      <td>¡madre!</td>\n",
       "      <td>2017</td>\n",
       "      <td>8.1</td>\n",
       "      <td>75.0</td>\n",
       "      <td>783161</td>\n",
       "    </tr>\n",
       "    <tr>\n",
       "      <th>39</th>\n",
       "      <td>Yo, Tonya</td>\n",
       "      <td>2017</td>\n",
       "      <td>8.1</td>\n",
       "      <td>77.0</td>\n",
       "      <td>783161</td>\n",
       "    </tr>\n",
       "    <tr>\n",
       "      <th>40</th>\n",
       "      <td>El Rey Arturo: La Leyenda de la Espada</td>\n",
       "      <td>2017</td>\n",
       "      <td>8.1</td>\n",
       "      <td>NaN</td>\n",
       "      <td>783161</td>\n",
       "    </tr>\n",
       "    <tr>\n",
       "      <th>41</th>\n",
       "      <td>Ghost in the Shell</td>\n",
       "      <td>2017</td>\n",
       "      <td>8.1</td>\n",
       "      <td>NaN</td>\n",
       "      <td>783161</td>\n",
       "    </tr>\n",
       "    <tr>\n",
       "      <th>42</th>\n",
       "      <td>Big Little Lies</td>\n",
       "      <td>2017</td>\n",
       "      <td>8.1</td>\n",
       "      <td>NaN</td>\n",
       "      <td>783161</td>\n",
       "    </tr>\n",
       "    <tr>\n",
       "      <th>43</th>\n",
       "      <td>Las horas más oscuras</td>\n",
       "      <td>2017</td>\n",
       "      <td>8.1</td>\n",
       "      <td>75.0</td>\n",
       "      <td>783161</td>\n",
       "    </tr>\n",
       "    <tr>\n",
       "      <th>44</th>\n",
       "      <td>The End of the F***ing World</td>\n",
       "      <td>2017</td>\n",
       "      <td>8.1</td>\n",
       "      <td>NaN</td>\n",
       "      <td>783161</td>\n",
       "    </tr>\n",
       "    <tr>\n",
       "      <th>45</th>\n",
       "      <td>Atómica</td>\n",
       "      <td>2017</td>\n",
       "      <td>8.1</td>\n",
       "      <td>63.0</td>\n",
       "      <td>783161</td>\n",
       "    </tr>\n",
       "    <tr>\n",
       "      <th>46</th>\n",
       "      <td>La momia</td>\n",
       "      <td>2017</td>\n",
       "      <td>8.1</td>\n",
       "      <td>NaN</td>\n",
       "      <td>783161</td>\n",
       "    </tr>\n",
       "    <tr>\n",
       "      <th>47</th>\n",
       "      <td>Bright</td>\n",
       "      <td>2017</td>\n",
       "      <td>8.1</td>\n",
       "      <td>NaN</td>\n",
       "      <td>783161</td>\n",
       "    </tr>\n",
       "    <tr>\n",
       "      <th>48</th>\n",
       "      <td>Guardianes de la bahía</td>\n",
       "      <td>2017</td>\n",
       "      <td>8.1</td>\n",
       "      <td>NaN</td>\n",
       "      <td>783161</td>\n",
       "    </tr>\n",
       "    <tr>\n",
       "      <th>49</th>\n",
       "      <td>Barry Seal: Sólo en América</td>\n",
       "      <td>2017</td>\n",
       "      <td>8.1</td>\n",
       "      <td>65.0</td>\n",
       "      <td>783161</td>\n",
       "    </tr>\n",
       "  </tbody>\n",
       "</table>\n",
       "</div>"
      ],
      "text/plain": [
       "                                          name  year  imdb_rating  metascore  \\\n",
       "0                                        Logan  2017          8.1       77.0   \n",
       "1                               Thor: Ragnarok  2017          8.1       74.0   \n",
       "2               Guardians of the Galaxy Vol. 2  2017          8.1       67.0   \n",
       "3                                    Dunkerque  2017          8.1       94.0   \n",
       "4                Spider-Man: De regreso a casa  2017          8.1       73.0   \n",
       "5                              Mujer Maravilla  2017          8.1       76.0   \n",
       "6                  Star Wars: Los últimos jedi  2017          8.1       84.0   \n",
       "7                                         Huye  2017          8.1       85.0   \n",
       "8                            Blade Runner 2049  2017          8.1       81.0   \n",
       "9                                           It  2017          8.1       69.0   \n",
       "10                Baby, el aprendiz del crimen  2017          8.1       86.0   \n",
       "11                                        Coco  2017          8.1       81.0   \n",
       "12                 Tres anúncios por un crimen  2017          8.1       88.0   \n",
       "13                            La casa de papel  2017          8.1        NaN   \n",
       "14                        John Wick: Chapter 2  2017          8.1       75.0   \n",
       "15                            Liga de Justicia  2017          8.1        NaN   \n",
       "16                           La forma del agua  2017          8.1       87.0   \n",
       "17                                        Dark  2017          8.1        NaN   \n",
       "18                         Jumanji en la selva  2017          8.1        NaN   \n",
       "19                 Kingsman: El círculo dorado  2017          8.1        NaN   \n",
       "20                          Kong: Skull Island  2017          8.1       62.0   \n",
       "21                                       Ozark  2017          8.1        NaN   \n",
       "22  Piratas del Caribe: La venganza de Salazar  2017          8.1        NaN   \n",
       "23                        La bella y la bestia  2017          8.1       65.0   \n",
       "24                                  Mindhunter  2017          8.1        NaN   \n",
       "25                                   Lady Bird  2017          8.1       93.0   \n",
       "26                              13 Reasons Why  2017          8.1        NaN   \n",
       "27                             El gran showman  2017          8.1        NaN   \n",
       "28                             Alien: Covenant  2017          8.1       65.0   \n",
       "29                       Llámame por tu nombre  2017          8.1       94.0   \n",
       "30          Asesinato en el Expreso de Oriente  2017          8.1        NaN   \n",
       "31         La guerra del planeta de los simios  2017          8.1       82.0   \n",
       "32                           Muerte misteriosa  2017          8.1       73.0   \n",
       "33                                The Punisher  2017          8.1        NaN   \n",
       "34                         The Handmaid's Tale  2017          8.1        NaN   \n",
       "35                        Rápidos y furiosos 8  2017          8.1        NaN   \n",
       "36                                        Life  2017          8.1        NaN   \n",
       "37                              Duro de cuidar  2017          8.1        NaN   \n",
       "38                                     ¡madre!  2017          8.1       75.0   \n",
       "39                                   Yo, Tonya  2017          8.1       77.0   \n",
       "40      El Rey Arturo: La Leyenda de la Espada  2017          8.1        NaN   \n",
       "41                          Ghost in the Shell  2017          8.1        NaN   \n",
       "42                             Big Little Lies  2017          8.1        NaN   \n",
       "43                       Las horas más oscuras  2017          8.1       75.0   \n",
       "44                The End of the F***ing World  2017          8.1        NaN   \n",
       "45                                     Atómica  2017          8.1       63.0   \n",
       "46                                    La momia  2017          8.1        NaN   \n",
       "47                                      Bright  2017          8.1        NaN   \n",
       "48                      Guardianes de la bahía  2017          8.1        NaN   \n",
       "49                 Barry Seal: Sólo en América  2017          8.1       65.0   \n",
       "\n",
       "      vote  \n",
       "0   783161  \n",
       "1   783161  \n",
       "2   783161  \n",
       "3   783161  \n",
       "4   783161  \n",
       "5   783161  \n",
       "6   783161  \n",
       "7   783161  \n",
       "8   783161  \n",
       "9   783161  \n",
       "10  783161  \n",
       "11  783161  \n",
       "12  783161  \n",
       "13  783161  \n",
       "14  783161  \n",
       "15  783161  \n",
       "16  783161  \n",
       "17  783161  \n",
       "18  783161  \n",
       "19  783161  \n",
       "20  783161  \n",
       "21  783161  \n",
       "22  783161  \n",
       "23  783161  \n",
       "24  783161  \n",
       "25  783161  \n",
       "26  783161  \n",
       "27  783161  \n",
       "28  783161  \n",
       "29  783161  \n",
       "30  783161  \n",
       "31  783161  \n",
       "32  783161  \n",
       "33  783161  \n",
       "34  783161  \n",
       "35  783161  \n",
       "36  783161  \n",
       "37  783161  \n",
       "38  783161  \n",
       "39  783161  \n",
       "40  783161  \n",
       "41  783161  \n",
       "42  783161  \n",
       "43  783161  \n",
       "44  783161  \n",
       "45  783161  \n",
       "46  783161  \n",
       "47  783161  \n",
       "48  783161  \n",
       "49  783161  "
      ]
     },
     "execution_count": 25,
     "metadata": {},
     "output_type": "execute_result"
    }
   ],
   "source": [
    "df"
   ]
  },
  {
   "cell_type": "code",
   "execution_count": 26,
   "metadata": {
    "colab": {
     "base_uri": "https://localhost:8080/"
    },
    "id": "_47dF-Dr0RWf",
    "outputId": "ce4142e1-445e-4bce-c487-0d610d182b41"
   },
   "outputs": [
    {
     "data": {
      "text/plain": [
       "name            object\n",
       "year            object\n",
       "imdb_rating    float64\n",
       "metascore      float64\n",
       "vote             int64\n",
       "dtype: object"
      ]
     },
     "execution_count": 26,
     "metadata": {},
     "output_type": "execute_result"
    }
   ],
   "source": [
    "df.dtypes"
   ]
  },
  {
   "cell_type": "code",
   "execution_count": 27,
   "metadata": {
    "colab": {
     "base_uri": "https://localhost:8080/",
     "height": 789
    },
    "id": "zgcWYNY10TqX",
    "outputId": "818adf6f-49af-4b90-fa29-3f03dca9cb8a"
   },
   "outputs": [
    {
     "data": {
      "text/plain": [
       "<AxesSubplot:xlabel='name'>"
      ]
     },
     "execution_count": 27,
     "metadata": {},
     "output_type": "execute_result"
    },
    {
     "data": {
      "image/png": "[encoded data removed]",
      "text/plain": [
       "<Figure size 640x480 with 1 Axes>"
      ]
     },
     "metadata": {},
     "output_type": "display_data"
    }
   ],
   "source": [
    "import matplotlib as plt\n",
    "df.plot.bar(x='name',y='vote')"
   ]
  }
 ],
 "metadata": {
  "colab": {
   "name": "IMDB_Web_Scraping_Beautiful_Soup.ipynb",
   "provenance": []
  },
  "kernelspec": {
   "display_name": "Python 3 (ipykernel)",
   "language": "python",
   "name": "python3"
  },
  "language_info": {
   "codemirror_mode": {
    "name": "ipython",
    "version": 3
   },
   "file_extension": ".py",
   "mimetype": "text/x-python",
   "name": "python",
   "nbconvert_exporter": "python",
   "pygments_lexer": "ipython3",
   "version": "3.9.13"
  }
 },
 "nbformat": 4,
 "nbformat_minor": 1
}
