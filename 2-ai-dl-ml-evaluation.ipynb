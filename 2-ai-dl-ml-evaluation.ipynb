{
 "cells": [
  {
   "cell_type": "markdown",
   "id": "c905ef90",
   "metadata": {},
   "source": [
    "<img heigth=\"8\" src=\"https://i.imgur.com/BhG5KQ3.png\" alt=\"pbs-enae\">\n",
    "\n",
    "<h1 align=\"left\">Aplicaciones empresariales de Python</h1>\n",
    "<h2 align=\"left\"><i>Panorama general</i></h2>\n",
    "\n",
    "<p align=\"left\">\n",
    "  <h3><a href=\"https://joefaver.dev\">Joseph F. Vergel-Becerra</a> | Aplicaciones de Python - Tools and Skill Courses</h3>\n",
    "  <br>\n",
    "  <b>Last updated:</b> <i>01/11/2023</i>\n",
    "  <br><br>\n",
    "  <a href=\"#referencias\">Referencias</a> •\n",
    "  <a href=\"#contribuir\">Contribuir</a>\n",
    "  <br><br>\n",
    "</p>\n",
    "<table align=\"left\">\n",
    "  <td>\n",
    "      <a href=\"https://img.shields.io/badge/version-0.1.0-blue.svg?cacheSeconds=2592000\">\n",
    "        <img src=\"https://img.shields.io/badge/version-0.1.0-blue.svg?cacheSeconds=2592000\" alt=\"Version\" height=\"18\">\n",
    "      </a>\n",
    "  </td>\n",
    "  <td>\n",
    "    <a href=\"https://colab.research.google.com/github/joefavergel/pbs-enae-python-applications-course/blob/main/2-retail-store-item-detection-preparation.ipynb\" target=\"_parent\"><img src=\"https://colab.research.google.com/assets/colab-badge.svg\" alt=\"Open In Colab\"/>\n",
    "      </a>\n",
    "  </td>\n",
    "  <td>\n",
    "    <a href=\"https://github.com/joefavergel/pbs-enae-python-applications-course\" target=\"_parent\"><img src=\"https://img.shields.io/github/forks/joefavergel/pbs-enae-python-beginners-course?style=social\" alt=\"Fork\"/>\n",
    "    </a>\n",
    "  </td>\n",
    "</table>\n",
    "<br>\n",
    "<br>\n",
    "\n",
    "---\n",
    "\n",
    "2do caso practico de la asignatura \"Aplicaciones de Python\".'"
   ]
  },
  {
   "cell_type": "markdown",
   "id": "bccf85f2",
   "metadata": {},
   "source": [
    "## 1. Ejercicio caso práctico: \"Evaluación de aplicaciones predictivas\"\n",
    "\n",
    "\n",
    "### Evaluación de una Solución Predictiva\n",
    "\n",
    "**Objetivo**\n",
    "Realizar un análisis exhaustivo de una solución predictiva hipotética ofrecida por un proveedor externo para determinar su viabilidad y valor agregado para la división o departamento a cargo del estudiante.\n",
    "\n",
    "**Instrucciones**\n",
    "1. **Planteamiento y Selección de la Solución Predictiva:**\n",
    "   - Imaginar que se ha recibido una gama de propuestas de soluciones predictivas de diferentes proveedores.\n",
    "   - Seleccionar una solución hipotética que parezca prometedora para las necesidades específicas de la división o departamento.\n",
    "   - Describir la solución elegida, incluyendo sus características principales, la tecnología que utiliza y los problemas específicos que promete resolver.\n",
    "\n",
    "2. **Escenario de Negocio**\n",
    "   - Describir el contexto del departamento o división que se está gestionando, junto con las necesidades específicas que podrían ser satisfechas por la solución predictiva.\n",
    "\n",
    "3. **Análisis de la Propuesta**\n",
    "   - Evaluar la solución predictiva seleccionada, considerando su funcionalidad, precisión, escalabilidad y facilidad de integración con los sistemas actuales.\n",
    "\n",
    "4. **Evaluación de Estándares y Valor Agregado**\n",
    "   - Determinar si la solución cumple con los estándares mínimos de seguridad, privacidad y cumplimiento normativo.\n",
    "   - Considerar cómo podría agregar valor específicamente a la división o departamento, como por ejemplo en la toma de decisiones o la optimización de recursos.\n",
    "\n",
    "5. **Análisis de Costo-Beneficio**\n",
    "   - Realizar un análisis de costo-beneficio, estimando el retorno de la inversión (ROI) y el tiempo necesario para capitalizar la solución.\n",
    "\n",
    "6. **Recomendación Final**\n",
    "   - Basándose en la investigación y análisis, tomar una decisión informada sobre la adquisición de la solución predictiva.\n",
    "   - Justificar la decisión con argumentos sólidos y datos cuantitativos cuando sea posible.\n",
    "\n",
    "**Entregable**\n",
    "- Un informe que incluya la selección de la solución predictiva, y posteriormente la descripción detallada de la metodología de evaluación de la solución, como mecanismo para el análisis del escenario de negocio, el análisis de la propuesta, los estándares de calidad, el valor agregado que provee a la organización, el análisis de costo-beneficio y una recomendación final bien fundamentada. Soporta la metodología de evaluación con preguntas claras y concisas para cada apartado a evaluar.\n",
    "- El documento no puede superar más de 3 páginas.\n",
    "- Sean concisos y directos.\n",
    "- Tengan en cuenta que ahora ustedes son el *c-level* de la compañía y son quienes después de aplicar la metodología de evaluación, deberán concluir si la inversión en la  solución propuesta por el proveedor vale la pena o no. Es perfectamente posible concluir cualquiera de las dos posibilidades, pues son ustedes mismos quienes proponen la solución hipotética del proveedor y que también lo hagan, definirá la viabilidad.\n",
    "- **Bonus**: Entre más utilicen los conocimientos aprendidos en programación y Python para la propuesta, mejor será la calificación. \n",
    "\n"
   ]
  }
 ],
 "metadata": {
  "interpreter": {
   "hash": "6d23b6ce06cef9a43c42598a33140bfd5d2a5cd66dc37a3339483c8b5d0164e0"
  },
  "kernelspec": {
   "display_name": "Python 3 (ipykernel)",
   "language": "python",
   "name": "python3"
  },
  "language_info": {
   "codemirror_mode": {
    "name": "ipython",
    "version": 3
   },
   "file_extension": ".py",
   "mimetype": "text/x-python",
   "name": "python",
   "nbconvert_exporter": "python",
   "pygments_lexer": "ipython3",
   "version": "3.9.13"
  }
 },
 "nbformat": 4,
 "nbformat_minor": 5
}
